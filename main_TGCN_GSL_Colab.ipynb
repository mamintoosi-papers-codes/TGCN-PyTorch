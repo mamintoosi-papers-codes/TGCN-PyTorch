{
  "cells": [
    {
      "cell_type": "code",
      "execution_count": 21,
      "metadata": {
        "colab": {
          "base_uri": "https://localhost:8080/"
        },
        "id": "ZWIcZmtofQw2",
        "outputId": "8992961e-05ca-4819-e605-09841d7daf40"
      },
      "outputs": [],
      "source": [
        "import os\n",
        "if 'google.colab' in str(get_ipython()) and not os.path.exists('/content/TGCN-PyTorch'):\n",
        "    !git clone https://github.com/mamintoosi-papers-codes/TGCN-PyTorch.git\n",
        "    !pip install -q torchmetrics\n",
        "    %cd TGCN-PyTorch"
      ]
    },
    {
      "cell_type": "code",
      "execution_count": null,
      "metadata": {
        "colab": {
          "base_uri": "https://localhost:8080/"
        },
        "id": "Y0gaYNigojA_",
        "outputId": "05ca2edd-22ea-4820-8fa1-757470fbc503"
      },
      "outputs": [
        {
          "name": "stderr",
          "output_type": "stream",
          "text": [
            "\u001b[31m[2025-03-05 09:55:07,246 INFO]\u001b[0mLoaded config from configs/tgcn-los-pre_len1.yaml: {'fit': {'trainer': {'max_epochs': 50, 'accelerator': 'cuda', 'devices': 1}, 'data': {'dataset_name': 'losloop', 'batch_size': 64, 'seq_len': 12, 'pre_len': 1}, 'model': {'model': {'class_path': 'models.TGCN', 'init_args': {'hidden_dim': 64, 'use_gsl': 0}}, 'learning_rate': 0.001, 'weight_decay': 0, 'loss': 'mse_with_regularizer'}}}\n",
            "\u001b[31m[2025-03-05 09:55:07,588 INFO]\u001b[0mUsing device: cuda\n",
            "\u001b[31m[2025-03-05 09:55:10,336 INFO]\u001b[0mStarting training for 50 epochs...\n",
            "\u001b[31m[2025-03-05 09:55:13,226 INFO]\u001b[0m[Epoch 1/50] Train Loss: 1747.537582, Val Loss: 9696790.000000, RMSE: 15.479447, MAE: 11.581459, Accuracy: 0.7365, R2: 0.2203, Expl.Var: 0.3528\n",
            "\u001b[31m[2025-03-05 09:55:24,089 INFO]\u001b[0m[Epoch 11/50] Train Loss: 118.143105, Val Loss: 4017595.250000, RMSE: 9.963789, MAE: 7.077308, Accuracy: 0.8304, R2: 0.4833, Expl.Var: 0.4839\n",
            "\u001b[31m[2025-03-05 09:55:33,277 INFO]\u001b[0m[Epoch 21/50] Train Loss: 86.011165, Val Loss: 2795667.750000, RMSE: 8.311592, MAE: 5.830990, Accuracy: 0.8585, R2: 0.6401, Expl.Var: 0.6403\n",
            "\u001b[31m[2025-03-05 09:55:42,360 INFO]\u001b[0m[Epoch 31/50] Train Loss: 72.280436, Val Loss: 2327910.750000, RMSE: 7.584459, MAE: 5.279209, Accuracy: 0.8709, R2: 0.7003, Expl.Var: 0.7004\n",
            "\u001b[31m[2025-03-05 09:55:53,964 INFO]\u001b[0m[Epoch 41/50] Train Loss: 63.401021, Val Loss: 2035966.000000, RMSE: 7.092947, MAE: 4.938851, Accuracy: 0.8793, R2: 0.7379, Expl.Var: 0.7380\n",
            "\u001b[31m[2025-03-05 09:56:03,132 INFO]\u001b[0m[Epoch 50/50] Train Loss: 57.598196, Val Loss: 1851511.750000, RMSE: 6.764017, MAE: 4.728299, Accuracy: 0.8849, R2: 0.7617, Expl.Var: 0.7621\n",
            "\u001b[31m[2025-03-05 09:56:03,148 INFO]\u001b[0mModel saved to trained-models/losloop_TGCN_seq12_pre1_gsl0.pt\n",
            "\u001b[31m[2025-03-05 09:56:03,150 INFO]\u001b[0mFinished training!\n",
            "\u001b[31m[2025-03-05 09:56:03,161 INFO]\u001b[0mLoaded config from configs/tgcn-los-gsl-pre_len1.yaml: {'fit': {'trainer': {'max_epochs': 50, 'accelerator': 'cuda', 'devices': 1}, 'data': {'dataset_name': 'losloop', 'batch_size': 64, 'seq_len': 12, 'pre_len': 1}, 'model': {'model': {'class_path': 'models.TGCN', 'init_args': {'hidden_dim': 64, 'use_gsl': 1}}, 'learning_rate': 0.001, 'weight_decay': 0, 'loss': 'mse_with_regularizer'}}}\n",
            "\u001b[31m[2025-03-05 09:56:03,411 INFO]\u001b[0mUsing device: cuda\n",
            "\u001b[31m[2025-03-05 09:56:03,413 INFO]\u001b[0mStarting training for 50 epochs...\n",
            "\u001b[31m[2025-03-05 09:56:04,460 INFO]\u001b[0m[Epoch 1/50] Train Loss: 2931.140405, Val Loss: 45725848.000000, RMSE: 33.614166, MAE: 29.181240, Accuracy: 0.4279, R2: -3.1814, Expl.Var: -4.4802\n"
          ]
        }
      ],
      "source": [
        "%%time\n",
        "\n",
        "datasets = ['los', 'sz'] # los=losloop, sz=shenzhen\n",
        "pred_list = [1, 2, 3, 4]\n",
        "\n",
        "for  dataset in datasets:\n",
        "    for pre_len in pred_list:\n",
        "        %run main.py --config configs/tgcn-{dataset}-pre_len{pre_len}.yaml\n",
        "        %run main.py --config configs/tgcn-{dataset}-gsl-pre_len{pre_len}.yaml\n",
        "        %run main.py --config configs/tgcn-{dataset}-gsl-adj-pre_len{pre_len}.yaml"
      ]
    },
    {
      "cell_type": "code",
      "execution_count": null,
      "metadata": {
        "colab": {
          "base_uri": "https://localhost:8080/",
          "height": 17
        },
        "id": "iQTnpyBEojA_",
        "outputId": "aeae8ede-84bd-4bc7-ebcc-ca0fdc8a5f08"
      },
      "outputs": [
        {
          "data": {
            "application/javascript": "\n    async function download(id, filename, size) {\n      if (!google.colab.kernel.accessAllowed) {\n        return;\n      }\n      const div = document.createElement('div');\n      const label = document.createElement('label');\n      label.textContent = `Downloading \"${filename}\": `;\n      div.appendChild(label);\n      const progress = document.createElement('progress');\n      progress.max = size;\n      div.appendChild(progress);\n      document.body.appendChild(div);\n\n      const buffers = [];\n      let downloaded = 0;\n\n      const channel = await google.colab.kernel.comms.open(id);\n      // Send a message to notify the kernel that we're ready.\n      channel.send({})\n\n      for await (const message of channel.messages) {\n        // Send a message to notify the kernel that we're ready.\n        channel.send({})\n        if (message.buffers) {\n          for (const buffer of message.buffers) {\n            buffers.push(buffer);\n            downloaded += buffer.byteLength;\n            progress.value = downloaded;\n          }\n        }\n      }\n      const blob = new Blob(buffers, {type: 'application/binary'});\n      const a = document.createElement('a');\n      a.href = window.URL.createObjectURL(blob);\n      a.download = filename;\n      div.appendChild(a);\n      a.click();\n      div.remove();\n    }\n  ",
            "text/plain": [
              "<IPython.core.display.Javascript object>"
            ]
          },
          "metadata": {},
          "output_type": "display_data"
        },
        {
          "data": {
            "application/javascript": "download(\"download_9c359fea-166c-4a58-a804-ae306d312736\", \"results.zip\", 7167727)",
            "text/plain": [
              "<IPython.core.display.Javascript object>"
            ]
          },
          "metadata": {},
          "output_type": "display_data"
        }
      ],
      "source": [
        "import pandas as pd\n",
        "import matplotlib.pyplot as plt\n",
        "import os\n",
        "import shutil\n",
        "\n",
        "\n",
        "# Define the prediction lengths and measures\n",
        "pred_list = [1, 2, 3, 4]\n",
        "measures = [\"RMSE\", \"MAE\", \"Accuracy\", \"R2\"]\n",
        "datasets = ['losloop', 'shenzhen']\n",
        "\n",
        "# Define a color palette for each method\n",
        "colors = plt.cm.tab10.colors  # Using a predefined color palette (10 distinct colors)\n",
        "method_colors = {\n",
        "    \"T-GCN\": colors[0],           # T-GCN (Default)\n",
        "    \"T-GCN (GSL Only)\": colors[1],  # T-GCN (GSL Only)\n",
        "    \"T-GCN (GSL + Adj)\": colors[2], # T-GCN (GSL + Adj)\n",
        "}\n",
        "\n",
        "# Define line styles for each method\n",
        "line_styles = {\n",
        "    \"T-GCN\": \"--\",                # Dashed for T-GCN (Default)\n",
        "    \"T-GCN (GSL Only)\": \"-\",       # Solid for T-GCN (GSL Only)\n",
        "    \"T-GCN (GSL + Adj)\": \":\",      # Dotted for T-GCN (GSL + Adj)\n",
        "}\n",
        "\n",
        "# Define markers for each method\n",
        "markers = {\n",
        "    \"T-GCN\": \"o\",                 # Circle for T-GCN (Default)\n",
        "    \"T-GCN (GSL Only)\": \"s\",       # Square for T-GCN (GSL Only)\n",
        "    \"T-GCN (GSL + Adj)\": \"D\",      # Diamond for T-GCN (GSL + Adj)\n",
        "}\n",
        "\n",
        "# Ensure the results directory exists\n",
        "os.makedirs(\"results\", exist_ok=True)\n",
        "\n",
        "# Loop through each dataset\n",
        "for dataset in datasets:\n",
        "    # Loop through each measure\n",
        "    for measure in measures:\n",
        "        # Loop through each pre_len in pred_list\n",
        "        for pre_len in pred_list:\n",
        "            # Create a new figure for each pre_len and measure\n",
        "            plt.figure(figsize=(12, 8))\n",
        "\n",
        "            # Load the metrics for T-GCN (Default) for comparison\n",
        "            metrics_file_tgcn = f\"results/metrics_{dataset}_TGCN_seq12_pre{pre_len}_gsl0.csv\"\n",
        "            metrics_df_tgcn = pd.read_csv(metrics_file_tgcn)\n",
        "\n",
        "            # Loop through each method\n",
        "            for method, color in method_colors.items():\n",
        "                # Map method names to their corresponding file suffixes\n",
        "                if method == \"T-GCN\":\n",
        "                    file_suffix = \"gsl0\"\n",
        "                elif method == \"T-GCN (GSL Only)\":\n",
        "                    file_suffix = \"gsl1\"\n",
        "                elif method == \"T-GCN (GSL + Adj)\":\n",
        "                    file_suffix = \"gsl2\"\n",
        "\n",
        "                # Generate the file path dynamically based on pre_len and method\n",
        "                metrics_file = f\"results/metrics_{dataset}_TGCN_seq12_pre{pre_len}_{file_suffix}.csv\"\n",
        "\n",
        "                # Load the metrics CSV file\n",
        "                metrics_df = pd.read_csv(metrics_file)\n",
        "\n",
        "                # Plot the current measure for the current method\n",
        "                plt.plot(\n",
        "                    metrics_df[\"Epoch\"],\n",
        "                    metrics_df[measure],\n",
        "                    linestyle=line_styles[method],\n",
        "                    marker=markers[method],\n",
        "                    color=color,\n",
        "                    label=f\"{method} (pre_len={pre_len})\",\n",
        "                )\n",
        "\n",
        "                # Highlight the first epoch where the current method is better than T-GCN (Default)\n",
        "                if method != \"T-GCN\":  # Skip comparison for T-GCN (Default)\n",
        "                    better_epoch = None\n",
        "                    for epoch in range(len(metrics_df)):\n",
        "                        tgcn_value = metrics_df_tgcn.loc[epoch, measure]\n",
        "                        current_value = metrics_df.loc[epoch, measure]\n",
        "\n",
        "                        # Check if the current method is better than T-GCN (Default)\n",
        "                        if measure in [\"RMSE\", \"MAE\"]:\n",
        "                            if current_value < tgcn_value:  # Lower is better\n",
        "                                better_epoch = epoch + 1  # Epochs are 1-indexed\n",
        "                                break\n",
        "                        else:\n",
        "                            if current_value > tgcn_value:  # Higher is better\n",
        "                                better_epoch = epoch + 1\n",
        "                                break\n",
        "\n",
        "                    # Highlight the first epoch where the current method is better\n",
        "                    if better_epoch is not None:\n",
        "                        plt.axvline(\n",
        "                            x=better_epoch,\n",
        "                            color=color,\n",
        "                            linestyle=\":\",\n",
        "                            alpha=0.5,\n",
        "                            label=f\"{method} better at epoch {better_epoch} (pre_len={pre_len})\",\n",
        "                        )\n",
        "\n",
        "            # Add labels, title, legend, and grid\n",
        "            plt.xlabel(\"Epoch\")\n",
        "            plt.ylabel(measure)\n",
        "            plt.title(f\"{measure} over Epochs for {dataset} (pre_len={pre_len})\")\n",
        "            plt.legend()\n",
        "            plt.grid(True)\n",
        "\n",
        "            # Save the figure as a PNG file\n",
        "            filename = f\"results/{dataset}_{measure}_pre{pre_len}.png\"\n",
        "            plt.savefig(filename, bbox_inches=\"tight\", dpi=300)\n",
        "            plt.close()  # Close the figure to free up memory\n"
      ]
    },
    {
      "cell_type": "code",
      "execution_count": null,
      "metadata": {
        "colab": {
          "base_uri": "https://localhost:8080/"
        },
        "id": "lxMdlaWD4VxS",
        "outputId": "7fcdfc00-28e9-4c3c-9e9b-13c419efbd88"
      },
      "outputs": [
        {
          "name": "stdout",
          "output_type": "stream",
          "text": [
            "LaTeX table for losloop:\n",
            "\\begin{tabular}{clcccc}\n",
            "\\toprule\n",
            " pre\\_len &            Method &            RMSE &             MAE &        Accuracy &              R2 \\\\\n",
            "\\midrule\n",
            "        1 &             T-GCN &          6.8539 &          4.7620 &          0.8833 &          0.7552 \\\\\n",
            "        1 &  T-GCN (GSL Only) & \\textbf{5.7027} & \\textbf{3.7524} & \\textbf{0.9029} & \\textbf{0.8305} \\\\\n",
            "        1 & T-GCN (GSL + Adj) &          6.4339 &          4.4765 &          0.8905 &          0.7843 \\\\\n",
            "        2 &             T-GCN &          7.3917 &          5.0901 &          0.8742 &          0.7156 \\\\\n",
            "        2 &  T-GCN (GSL Only) & \\textbf{6.4694} & \\textbf{4.2092} & \\textbf{0.8899} & \\textbf{0.7823} \\\\\n",
            "        2 & T-GCN (GSL + Adj) &          6.9092 &          4.8106 &          0.8824 &          0.7516 \\\\\n",
            "        3 &             T-GCN & \\textbf{7.2658} &          4.9950 & \\textbf{0.8763} & \\textbf{0.7256} \\\\\n",
            "        3 &  T-GCN (GSL Only) &          7.2749 & \\textbf{4.6912} &          0.8762 &          0.7252 \\\\\n",
            "        3 & T-GCN (GSL + Adj) &          7.8105 &          5.4674 &          0.8670 &          0.6833 \\\\\n",
            "        4 &             T-GCN & \\textbf{7.6796} &          5.2195 & \\textbf{0.8692} & \\textbf{0.6938} \\\\\n",
            "        4 &  T-GCN (GSL Only) &          7.9034 & \\textbf{5.1104} &          0.8654 &          0.6761 \\\\\n",
            "        4 & T-GCN (GSL + Adj) &          8.4591 &          5.8631 &          0.8560 &          0.6285 \\\\\n",
            "\\bottomrule\n",
            "\\end{tabular}\n",
            "\n",
            "LaTeX table for shenzhen:\n",
            "\\begin{tabular}{clcccc}\n",
            "\\toprule\n",
            " pre\\_len &            Method &            RMSE &             MAE &        Accuracy &              R2 \\\\\n",
            "\\midrule\n",
            "        1 &             T-GCN &          4.5622 &          3.3145 &          0.6821 &          0.8095 \\\\\n",
            "        1 &  T-GCN (GSL Only) & \\textbf{4.2721} & \\textbf{2.9532} & \\textbf{0.7023} & \\textbf{0.8331} \\\\\n",
            "        1 & T-GCN (GSL + Adj) &          4.5115 &          3.2395 &          0.6857 &          0.8135 \\\\\n",
            "        2 &             T-GCN &          4.6178 &          3.4096 &          0.6782 &          0.8059 \\\\\n",
            "        2 &  T-GCN (GSL Only) & \\textbf{4.3150} & \\textbf{2.9057} & \\textbf{0.6993} & \\textbf{0.8297} \\\\\n",
            "        2 & T-GCN (GSL + Adj) &          4.6201 &          3.2864 &          0.6781 &          0.8070 \\\\\n",
            "        3 &             T-GCN &          4.6638 &          3.3433 &          0.6750 &          0.8009 \\\\\n",
            "        3 &  T-GCN (GSL Only) & \\textbf{4.3202} & \\textbf{3.0152} & \\textbf{0.6989} & \\textbf{0.8290} \\\\\n",
            "        3 & T-GCN (GSL + Adj) &          4.5972 &          3.3353 &          0.6796 &          0.8063 \\\\\n",
            "        4 &             T-GCN &          4.8604 &          3.5957 &          0.6613 &          0.7836 \\\\\n",
            "        4 &  T-GCN (GSL Only) & \\textbf{4.3496} & \\textbf{3.0932} & \\textbf{0.6969} & \\textbf{0.8275} \\\\\n",
            "        4 & T-GCN (GSL + Adj) &          4.5695 &          3.3210 &          0.6816 &          0.8087 \\\\\n",
            "\\bottomrule\n",
            "\\end{tabular}\n",
            "\n"
          ]
        }
      ],
      "source": [
        "import pandas as pd\n",
        "import os\n",
        "\n",
        "# Define the prediction lengths and measures\n",
        "pred_list = [1, 2, 3, 4]\n",
        "measures = [\"RMSE\", \"MAE\", \"Accuracy\", \"R2\"]\n",
        "datasets = ['losloop', 'shenzhen']\n",
        "\n",
        "# Ensure the results directory exists\n",
        "os.makedirs(\"results\", exist_ok=True)\n",
        "\n",
        "# Loop through each dataset\n",
        "for dataset in datasets:\n",
        "    # Initialize a dictionary to store the results of the last epoch\n",
        "    results = {}\n",
        "\n",
        "    # Loop through each pre_len and measure to collect the last epoch results\n",
        "    for pre_len in pred_list:\n",
        "        # Generate the file paths dynamically based on pre_len and method\n",
        "        metrics_file_gsl0 = f\"results/metrics_{dataset}_TGCN_seq12_pre{pre_len}_gsl0.csv\"\n",
        "        metrics_file_gsl1 = f\"results/metrics_{dataset}_TGCN_seq12_pre{pre_len}_gsl1.csv\"\n",
        "        metrics_file_gsl2 = f\"results/metrics_{dataset}_TGCN_seq12_pre{pre_len}_gsl2.csv\"\n",
        "\n",
        "        # Load the metrics CSV files\n",
        "        metrics_df_gsl0 = pd.read_csv(metrics_file_gsl0)\n",
        "        metrics_df_gsl1 = pd.read_csv(metrics_file_gsl1)\n",
        "        metrics_df_gsl2 = pd.read_csv(metrics_file_gsl2)\n",
        "\n",
        "        # Get the last epoch results for all methods\n",
        "        last_epoch_gsl0 = metrics_df_gsl0.iloc[-1]  # Last row for gsl0 (T-GCN)\n",
        "        last_epoch_gsl1 = metrics_df_gsl1.iloc[-1]  # Last row for gsl1 (T-GCN GSL Only)\n",
        "        last_epoch_gsl2 = metrics_df_gsl2.iloc[-1]  # Last row for gsl2 (T-GCN GSL + Adj)\n",
        "\n",
        "        # Store the results in the dictionary with pre_len as part of the key\n",
        "        results[f\"T-GCN (pre_len={pre_len})\"] = last_epoch_gsl0[measures]\n",
        "        results[f\"T-GCN (GSL Only) (pre_len={pre_len})\"] = last_epoch_gsl1[measures]\n",
        "        results[f\"T-GCN (GSL + Adj) (pre_len={pre_len})\"] = last_epoch_gsl2[measures]\n",
        "\n",
        "    # Convert the results dictionary to a DataFrame\n",
        "    results_df = pd.DataFrame(results).T\n",
        "\n",
        "    # Add a column for pre_len to results_df\n",
        "    results_df[\"pre\\\\_len\"] = [pre_len for pre_len in pred_list for _ in range(3)]\n",
        "\n",
        "    # Function to highlight the winner for each pre_len and measure\n",
        "    def highlight_winner(df):\n",
        "        highlighted_df = df.copy()\n",
        "        for pre_len in pred_list:\n",
        "            for measure in measures:\n",
        "                # Get the values for the three methods for the current pre_len\n",
        "                tgcn_value = df.loc[f\"T-GCN (pre_len={pre_len})\", measure]\n",
        "                gsl_only_value = df.loc[f\"T-GCN (GSL Only) (pre_len={pre_len})\", measure]\n",
        "                gsl_adj_value = df.loc[f\"T-GCN (GSL + Adj) (pre_len={pre_len})\", measure]\n",
        "\n",
        "                # Determine the winner based on the measure\n",
        "                if measure in [\"RMSE\", \"MAE\"]:\n",
        "                    winner_value = min(tgcn_value, gsl_only_value, gsl_adj_value)  # Lower is better\n",
        "                else:\n",
        "                    winner_value = max(tgcn_value, gsl_only_value, gsl_adj_value)  # Higher is better\n",
        "\n",
        "                # Highlight the winner\n",
        "                if tgcn_value == winner_value:\n",
        "                    highlighted_df.loc[f\"T-GCN (pre_len={pre_len})\", measure] = f\"\\\\textbf{{{tgcn_value:.4f}}}\"\n",
        "                else:\n",
        "                    highlighted_df.loc[f\"T-GCN (pre_len={pre_len})\", measure] = f\"{tgcn_value:.4f}\"\n",
        "\n",
        "                if gsl_only_value == winner_value:\n",
        "                    highlighted_df.loc[f\"T-GCN (GSL Only) (pre_len={pre_len})\", measure] = f\"\\\\textbf{{{gsl_only_value:.4f}}}\"\n",
        "                else:\n",
        "                    highlighted_df.loc[f\"T-GCN (GSL Only) (pre_len={pre_len})\", measure] = f\"{gsl_only_value:.4f}\"\n",
        "\n",
        "                if gsl_adj_value == winner_value:\n",
        "                    highlighted_df.loc[f\"T-GCN (GSL + Adj) (pre_len={pre_len})\", measure] = f\"\\\\textbf{{{gsl_adj_value:.4f}}}\"\n",
        "                else:\n",
        "                    highlighted_df.loc[f\"T-GCN (GSL + Adj) (pre_len={pre_len})\", measure] = f\"{gsl_adj_value:.4f}\"\n",
        "        return highlighted_df\n",
        "\n",
        "    # Apply the highlight function to the results DataFrame\n",
        "    highlighted_results = highlight_winner(results_df)\n",
        "\n",
        "    # Remove (pre_len={pre_len}) from method names\n",
        "    highlighted_results.index = highlighted_results.index.str.replace(r\" \\(pre_len=\\d+\\)\", \"\", regex=True)\n",
        "\n",
        "    # Add a column for method names\n",
        "    highlighted_results.insert(0, \"Method\", highlighted_results.index)\n",
        "\n",
        "    # Reorder columns to make pre_len the first column and method-name the second column\n",
        "    highlighted_results = highlighted_results[[\"pre\\\\_len\", \"Method\"] + measures]\n",
        "\n",
        "    # Generate the LaTeX table\n",
        "    latex_table = highlighted_results.to_latex(\n",
        "        escape=False,\n",
        "        column_format=\"cl\" + \"c\" * len(measures),  # Updated column format\n",
        "        multicolumn_format=\"c\",\n",
        "        index=False  # Do not include the index in the LaTeX table\n",
        "    )\n",
        "\n",
        "    # Save the LaTeX table to a file\n",
        "    table_filename = f\"results/{dataset}_results_table.tex\"\n",
        "    with open(table_filename, \"w\") as f:\n",
        "        f.write(latex_table)\n",
        "\n",
        "    # Print the LaTeX table\n",
        "    print(f\"LaTeX table for {dataset}:\")\n",
        "    print(latex_table)"
      ]
    },
    {
      "cell_type": "code",
      "execution_count": null,
      "metadata": {
        "colab": {
          "base_uri": "https://localhost:8080/",
          "height": 17
        },
        "id": "Lb1UHp-O4jfu",
        "outputId": "cf05957d-5e2d-4f94-afe4-828ccbc0622b"
      },
      "outputs": [
        {
          "data": {
            "application/javascript": "\n    async function download(id, filename, size) {\n      if (!google.colab.kernel.accessAllowed) {\n        return;\n      }\n      const div = document.createElement('div');\n      const label = document.createElement('label');\n      label.textContent = `Downloading \"${filename}\": `;\n      div.appendChild(label);\n      const progress = document.createElement('progress');\n      progress.max = size;\n      div.appendChild(progress);\n      document.body.appendChild(div);\n\n      const buffers = [];\n      let downloaded = 0;\n\n      const channel = await google.colab.kernel.comms.open(id);\n      // Send a message to notify the kernel that we're ready.\n      channel.send({})\n\n      for await (const message of channel.messages) {\n        // Send a message to notify the kernel that we're ready.\n        channel.send({})\n        if (message.buffers) {\n          for (const buffer of message.buffers) {\n            buffers.push(buffer);\n            downloaded += buffer.byteLength;\n            progress.value = downloaded;\n          }\n        }\n      }\n      const blob = new Blob(buffers, {type: 'application/binary'});\n      const a = document.createElement('a');\n      a.href = window.URL.createObjectURL(blob);\n      a.download = filename;\n      div.appendChild(a);\n      a.click();\n      div.remove();\n    }\n  ",
            "text/plain": [
              "<IPython.core.display.Javascript object>"
            ]
          },
          "metadata": {},
          "output_type": "display_data"
        },
        {
          "data": {
            "application/javascript": "download(\"download_630fb023-f160-49e9-bc6d-82d3604d787b\", \"results.zip\", 7168738)",
            "text/plain": [
              "<IPython.core.display.Javascript object>"
            ]
          },
          "metadata": {},
          "output_type": "display_data"
        }
      ],
      "source": [
        "if 'google.colab' in str(get_ipython()): \n",
        "    from google.colab import files\n",
        "    # Zip the results folder\n",
        "    shutil.make_archive('results', 'zip', 'results')\n",
        "    # Download the zipped file\n",
        "    files.download('results.zip')"
      ]
    }
  ],
  "metadata": {
    "accelerator": "GPU",
    "colab": {
      "gpuType": "T4",
      "provenance": []
    },
    "kernelspec": {
      "display_name": "pth-gpu",
      "language": "python",
      "name": "python3"
    },
    "language_info": {
      "codemirror_mode": {
        "name": "ipython",
        "version": 3
      },
      "file_extension": ".py",
      "mimetype": "text/x-python",
      "name": "python",
      "nbconvert_exporter": "python",
      "pygments_lexer": "ipython3",
      "version": "3.10.16"
    }
  },
  "nbformat": 4,
  "nbformat_minor": 0
}
