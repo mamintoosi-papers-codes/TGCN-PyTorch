{
 "cells": [
  {
   "cell_type": "markdown",
   "metadata": {},
   "source": [
    "# GCN GSL\n",
    "\n",
    "**Graph Structure Learning for Traffic Prediction**\n",
    "\n",
    "This repository provides the implementation of the paper \"Graph Structure Learning for Traffic Prediction\" by MAHMOOD AMINTOOSI.\n",
    "\n",
    "Before running this file, the adjacency matrix should be estimated using GSL by running `est_adj_dagma.ipynb`. We already run it and the estimated matrices are saved in `data` folder"
   ]
  },
  {
   "cell_type": "code",
   "execution_count": 21,
   "metadata": {
    "colab": {
     "base_uri": "https://localhost:8080/"
    },
    "id": "ZWIcZmtofQw2",
    "outputId": "8992961e-05ca-4819-e605-09841d7daf40"
   },
   "outputs": [],
   "source": [
    "import os\n",
    "if 'google.colab' in str(get_ipython()) and not os.path.exists('/content/TGCN-PyTorch'):\n",
    "    !git clone https://github.com/mamintoosi-papers-codes/TGCN-PyTorch.git\n",
    "    !pip install -q torchmetrics\n",
    "    %cd TGCN-PyTorch"
   ]
  },
  {
   "cell_type": "code",
   "execution_count": null,
   "metadata": {},
   "outputs": [
    {
     "name": "stderr",
     "output_type": "stream",
     "text": [
      "c:\\Users\\m.amintoosi\\.conda\\envs\\pth-gpu\\lib\\site-packages\\tqdm\\auto.py:21: TqdmWarning: IProgress not found. Please update jupyter and ipywidgets. See https://ipywidgets.readthedocs.io/en/stable/user_install.html\n",
      "  from .autonotebook import tqdm as notebook_tqdm\n",
      "\u001b[31m[2025-03-06 06:13:26,294 INFO]\u001b[0mLoaded config from configs/gcn-los-pre_len1.yaml: {'fit': {'trainer': {'max_epochs': 50, 'accelerator': 'cuda', 'devices': 1}, 'data': {'dataset_name': 'losloop', 'batch_size': 64, 'seq_len': 12, 'pre_len': 1}, 'model': {'model': {'class_path': 'models.GCN', 'init_args': {'hidden_dim': 64, 'use_gsl': 0}}, 'learning_rate': 0.001, 'weight_decay': 0, 'loss': 'mse'}}}\n",
      "\u001b[31m[2025-03-06 06:13:26,491 INFO]\u001b[0mUsing device: cuda\n"
     ]
    },
    {
     "name": "stdout",
     "output_type": "stream",
     "text": [
      "<class 'models.gcn.GCN'>\n"
     ]
    },
    {
     "name": "stderr",
     "output_type": "stream",
     "text": [
      "\u001b[31m[2025-03-06 06:13:28,447 INFO]\u001b[0mStarting training for 50 epochs...\n",
      "\u001b[31m[2025-03-06 06:13:28,930 INFO]\u001b[0m[Epoch 1/50] Train Loss: 0.081381, Val Loss: 138.564011, RMSE: 11.771321, MAE: 8.660152, Accuracy: 0.7997, R2: 0.4479, Expl.Var: 0.5859\n",
      "\u001b[31m[2025-03-06 06:13:29,783 INFO]\u001b[0m[Epoch 11/50] Train Loss: 0.012938, Val Loss: 69.320969, RMSE: 8.325921, MAE: 5.852673, Accuracy: 0.8583, R2: 0.6389, Expl.Var: 0.6391\n",
      "\u001b[31m[2025-03-06 06:13:30,644 INFO]\u001b[0m[Epoch 21/50] Train Loss: 0.011931, Val Loss: 62.695507, RMSE: 7.918049, MAE: 5.632243, Accuracy: 0.8652, R2: 0.6734, Expl.Var: 0.6735\n",
      "\u001b[31m[2025-03-06 06:13:31,528 INFO]\u001b[0m[Epoch 31/50] Train Loss: 0.011651, Val Loss: 60.959858, RMSE: 7.807680, MAE: 5.595221, Accuracy: 0.8671, R2: 0.6823, Expl.Var: 0.6824\n",
      "\u001b[31m[2025-03-06 06:13:32,413 INFO]\u001b[0m[Epoch 41/50] Train Loss: 0.011514, Val Loss: 60.175095, RMSE: 7.757261, MAE: 5.575319, Accuracy: 0.8680, R2: 0.6864, Expl.Var: 0.6864\n",
      "\u001b[31m[2025-03-06 06:13:33,244 INFO]\u001b[0m[Epoch 50/50] Train Loss: 0.011414, Val Loss: 59.659378, RMSE: 7.723948, MAE: 5.555292, Accuracy: 0.8685, R2: 0.6891, Expl.Var: 0.6891\n",
      "\u001b[31m[2025-03-06 06:13:33,244 INFO]\u001b[0mModel saved to trained-models/losloop_GCN_seq12_pre1_gsl0.pt\n",
      "\u001b[31m[2025-03-06 06:13:33,244 INFO]\u001b[0mFinished training!\n",
      "\n",
      "\u001b[31m[2025-03-06 06:13:33,267 INFO]\u001b[0mLoaded config from configs/gcn-los-gsl-pre_len1.yaml: {'fit': {'trainer': {'max_epochs': 50, 'accelerator': 'cuda', 'devices': 1}, 'data': {'dataset_name': 'losloop', 'batch_size': 64, 'seq_len': 12, 'pre_len': 1}, 'model': {'model': {'class_path': 'models.GCN', 'init_args': {'hidden_dim': 64, 'use_gsl': 1}}, 'learning_rate': 0.001, 'weight_decay': 0, 'loss': 'mse'}}}\n",
      "\u001b[31m[2025-03-06 06:13:33,410 INFO]\u001b[0mUsing device: cuda\n",
      "\u001b[31m[2025-03-06 06:13:33,411 INFO]\u001b[0mStarting training for 50 epochs...\n",
      "\u001b[31m[2025-03-06 06:13:33,505 INFO]\u001b[0m[Epoch 1/50] Train Loss: 0.082540, Val Loss: 140.922241, RMSE: 11.871067, MAE: 9.138047, Accuracy: 0.7980, R2: 0.4053, Expl.Var: 0.5004\n"
     ]
    },
    {
     "name": "stdout",
     "output_type": "stream",
     "text": [
      "File data/W_est_losloop_pre_len1.npy found. Loading existing adjacency matrix estimated by GSL from training data.\n",
      "GSL computed: Only GSL\n"
     ]
    },
    {
     "name": "stderr",
     "output_type": "stream",
     "text": [
      "\u001b[31m[2025-03-06 06:13:34,376 INFO]\u001b[0m[Epoch 11/50] Train Loss: 0.012403, Val Loss: 64.010681, RMSE: 8.000668, MAE: 5.347832, Accuracy: 0.8638, R2: 0.6667, Expl.Var: 0.6674\n",
      "\u001b[31m[2025-03-06 06:13:35,234 INFO]\u001b[0m[Epoch 21/50] Train Loss: 0.011717, Val Loss: 61.233009, RMSE: 7.825152, MAE: 5.276656, Accuracy: 0.8668, R2: 0.6821, Expl.Var: 0.6846\n",
      "\u001b[31m[2025-03-06 06:13:36,125 INFO]\u001b[0m[Epoch 31/50] Train Loss: 0.011438, Val Loss: 59.768425, RMSE: 7.731004, MAE: 5.179961, Accuracy: 0.8684, R2: 0.6900, Expl.Var: 0.6933\n",
      "\u001b[31m[2025-03-06 06:13:37,010 INFO]\u001b[0m[Epoch 41/50] Train Loss: 0.011213, Val Loss: 58.114338, RMSE: 7.623276, MAE: 5.103260, Accuracy: 0.8703, R2: 0.6981, Expl.Var: 0.7003\n",
      "\u001b[31m[2025-03-06 06:13:37,831 INFO]\u001b[0m[Epoch 50/50] Train Loss: 0.011039, Val Loss: 56.655888, RMSE: 7.527010, MAE: 5.064841, Accuracy: 0.8719, R2: 0.7051, Expl.Var: 0.7058\n",
      "\u001b[31m[2025-03-06 06:13:37,831 INFO]\u001b[0mModel saved to trained-models/losloop_GCN_seq12_pre1_gsl1.pt\n",
      "\u001b[31m[2025-03-06 06:13:37,831 INFO]\u001b[0mFinished training!\n",
      "\n",
      "\u001b[31m[2025-03-06 06:13:37,853 INFO]\u001b[0mLoaded config from configs/gcn-los-gsl-adj-pre_len1.yaml: {'fit': {'trainer': {'max_epochs': 50, 'accelerator': 'cuda', 'devices': 1}, 'data': {'dataset_name': 'losloop', 'batch_size': 64, 'seq_len': 12, 'pre_len': 1}, 'model': {'model': {'class_path': 'models.GCN', 'init_args': {'hidden_dim': 64, 'use_gsl': 2}}, 'learning_rate': 0.001, 'weight_decay': 0, 'loss': 'mse'}}}\n",
      "\u001b[31m[2025-03-06 06:13:38,020 INFO]\u001b[0mUsing device: cuda\n",
      "\u001b[31m[2025-03-06 06:13:38,024 INFO]\u001b[0mStarting training for 50 epochs...\n",
      "\u001b[31m[2025-03-06 06:13:38,168 INFO]\u001b[0m[Epoch 1/50] Train Loss: 0.081484, Val Loss: 139.052795, RMSE: 11.792065, MAE: 8.659431, Accuracy: 0.7993, R2: 0.4454, Expl.Var: 0.5819\n"
     ]
    },
    {
     "name": "stdout",
     "output_type": "stream",
     "text": [
      "File data/W_est_losloop_pre_len1.npy found. Loading existing adjacency matrix estimated by GSL from training data.\n",
      "GSL computed: GSL+Adj\n"
     ]
    },
    {
     "name": "stderr",
     "output_type": "stream",
     "text": [
      "\u001b[31m[2025-03-06 06:13:39,147 INFO]\u001b[0m[Epoch 11/50] Train Loss: 0.013133, Val Loss: 70.179344, RMSE: 8.377312, MAE: 5.900904, Accuracy: 0.8574, R2: 0.6344, Expl.Var: 0.6346\n",
      "\u001b[31m[2025-03-06 06:13:40,136 INFO]\u001b[0m[Epoch 21/50] Train Loss: 0.012155, Val Loss: 63.664371, RMSE: 7.978996, MAE: 5.690091, Accuracy: 0.8642, R2: 0.6683, Expl.Var: 0.6686\n",
      "\u001b[31m[2025-03-06 06:13:41,146 INFO]\u001b[0m[Epoch 31/50] Train Loss: 0.011881, Val Loss: 61.938744, RMSE: 7.870117, MAE: 5.653522, Accuracy: 0.8660, R2: 0.6773, Expl.Var: 0.6774\n",
      "\u001b[31m[2025-03-06 06:13:42,136 INFO]\u001b[0m[Epoch 41/50] Train Loss: 0.011741, Val Loss: 61.134106, RMSE: 7.818830, MAE: 5.632545, Accuracy: 0.8669, R2: 0.6814, Expl.Var: 0.6814\n",
      "\u001b[31m[2025-03-06 06:13:42,932 INFO]\u001b[0m[Epoch 50/50] Train Loss: 0.011636, Val Loss: 60.592834, RMSE: 7.784140, MAE: 5.612671, Accuracy: 0.8675, R2: 0.6842, Expl.Var: 0.6842\n",
      "\u001b[31m[2025-03-06 06:13:42,932 INFO]\u001b[0mModel saved to trained-models/losloop_GCN_seq12_pre1_gsl2.pt\n",
      "\u001b[31m[2025-03-06 06:13:42,935 INFO]\u001b[0mFinished training!\n",
      "\n",
      "\u001b[31m[2025-03-06 06:13:42,944 INFO]\u001b[0mLoaded config from configs/gcn-los-pre_len2.yaml: {'fit': {'trainer': {'max_epochs': 50, 'accelerator': 'cuda', 'devices': 1}, 'data': {'dataset_name': 'losloop', 'batch_size': 64, 'seq_len': 12, 'pre_len': 2}, 'model': {'model': {'class_path': 'models.GCN', 'init_args': {'hidden_dim': 64, 'use_gsl': 0}}, 'learning_rate': 0.001, 'weight_decay': 0, 'loss': 'mse'}}}\n",
      "\u001b[31m[2025-03-06 06:13:43,077 INFO]\u001b[0mUsing device: cuda\n",
      "\u001b[31m[2025-03-06 06:13:43,086 INFO]\u001b[0mStarting training for 50 epochs...\n",
      "\u001b[31m[2025-03-06 06:13:43,186 INFO]\u001b[0m[Epoch 1/50] Train Loss: 0.221218, Val Loss: 118.129799, RMSE: 10.868753, MAE: 7.436675, Accuracy: 0.8150, R2: 0.4761, Expl.Var: 0.5587\n"
     ]
    },
    {
     "name": "stdout",
     "output_type": "stream",
     "text": [
      "<class 'models.gcn.GCN'>\n"
     ]
    },
    {
     "name": "stderr",
     "output_type": "stream",
     "text": [
      "\u001b[31m[2025-03-06 06:13:44,130 INFO]\u001b[0m[Epoch 11/50] Train Loss: 0.013876, Val Loss: 76.199356, RMSE: 8.729224, MAE: 6.078568, Accuracy: 0.8514, R2: 0.6039, Expl.Var: 0.6047\n",
      "\u001b[31m[2025-03-06 06:13:45,067 INFO]\u001b[0m[Epoch 21/50] Train Loss: 0.012776, Val Loss: 68.474808, RMSE: 8.274951, MAE: 5.837683, Accuracy: 0.8591, R2: 0.6439, Expl.Var: 0.6443\n",
      "\u001b[31m[2025-03-06 06:13:45,995 INFO]\u001b[0m[Epoch 31/50] Train Loss: 0.012308, Val Loss: 65.128250, RMSE: 8.070208, MAE: 5.740946, Accuracy: 0.8626, R2: 0.6611, Expl.Var: 0.6614\n",
      "\u001b[31m[2025-03-06 06:13:46,931 INFO]\u001b[0m[Epoch 41/50] Train Loss: 0.012101, Val Loss: 63.699875, RMSE: 7.981220, MAE: 5.715837, Accuracy: 0.8641, R2: 0.6685, Expl.Var: 0.6685\n",
      "\u001b[31m[2025-03-06 06:13:47,930 INFO]\u001b[0m[Epoch 50/50] Train Loss: 0.012000, Val Loss: 63.043602, RMSE: 7.940000, MAE: 5.691576, Accuracy: 0.8648, R2: 0.6719, Expl.Var: 0.6719\n",
      "\u001b[31m[2025-03-06 06:13:47,930 INFO]\u001b[0mModel saved to trained-models/losloop_GCN_seq12_pre2_gsl0.pt\n",
      "\u001b[31m[2025-03-06 06:13:47,930 INFO]\u001b[0mFinished training!\n",
      "\n",
      "\u001b[31m[2025-03-06 06:13:47,955 INFO]\u001b[0mLoaded config from configs/gcn-los-gsl-pre_len2.yaml: {'fit': {'trainer': {'max_epochs': 50, 'accelerator': 'cuda', 'devices': 1}, 'data': {'dataset_name': 'losloop', 'batch_size': 64, 'seq_len': 12, 'pre_len': 2}, 'model': {'model': {'class_path': 'models.GCN', 'init_args': {'hidden_dim': 64, 'use_gsl': 1}}, 'learning_rate': 0.001, 'weight_decay': 0, 'loss': 'mse'}}}\n",
      "\u001b[31m[2025-03-06 06:13:48,129 INFO]\u001b[0mUsing device: cuda\n",
      "\u001b[31m[2025-03-06 06:13:48,138 INFO]\u001b[0mStarting training for 50 epochs...\n",
      "\u001b[31m[2025-03-06 06:13:48,279 INFO]\u001b[0m[Epoch 1/50] Train Loss: 0.219800, Val Loss: 122.897469, RMSE: 11.085913, MAE: 7.815781, Accuracy: 0.8113, R2: 0.4385, Expl.Var: 0.4995\n"
     ]
    },
    {
     "name": "stdout",
     "output_type": "stream",
     "text": [
      "File data/W_est_losloop_pre_len2.npy found. Loading existing adjacency matrix estimated by GSL from training data.\n",
      "GSL computed: Only GSL\n"
     ]
    },
    {
     "name": "stderr",
     "output_type": "stream",
     "text": [
      "\u001b[31m[2025-03-06 06:13:49,248 INFO]\u001b[0m[Epoch 11/50] Train Loss: 0.013660, Val Loss: 70.811775, RMSE: 8.414973, MAE: 5.527009, Accuracy: 0.8568, R2: 0.6318, Expl.Var: 0.6324\n",
      "\u001b[31m[2025-03-06 06:13:50,174 INFO]\u001b[0m[Epoch 21/50] Train Loss: 0.012566, Val Loss: 65.660233, RMSE: 8.103100, MAE: 5.434361, Accuracy: 0.8621, R2: 0.6592, Expl.Var: 0.6609\n",
      "\u001b[31m[2025-03-06 06:13:51,118 INFO]\u001b[0m[Epoch 31/50] Train Loss: 0.012273, Val Loss: 64.187416, RMSE: 8.011705, MAE: 5.368785, Accuracy: 0.8636, R2: 0.6671, Expl.Var: 0.6695\n",
      "\u001b[31m[2025-03-06 06:13:52,038 INFO]\u001b[0m[Epoch 41/50] Train Loss: 0.012085, Val Loss: 63.008286, RMSE: 7.937776, MAE: 5.304279, Accuracy: 0.8649, R2: 0.6732, Expl.Var: 0.6754\n",
      "\u001b[31m[2025-03-06 06:13:52,886 INFO]\u001b[0m[Epoch 50/50] Train Loss: 0.011942, Val Loss: 61.890896, RMSE: 7.867077, MAE: 5.268295, Accuracy: 0.8661, R2: 0.6784, Expl.Var: 0.6795\n",
      "\u001b[31m[2025-03-06 06:13:52,889 INFO]\u001b[0mModel saved to trained-models/losloop_GCN_seq12_pre2_gsl1.pt\n",
      "\u001b[31m[2025-03-06 06:13:52,890 INFO]\u001b[0mFinished training!\n",
      "\n",
      "\u001b[31m[2025-03-06 06:13:52,902 INFO]\u001b[0mLoaded config from configs/gcn-los-gsl-adj-pre_len2.yaml: {'fit': {'trainer': {'max_epochs': 50, 'accelerator': 'cuda', 'devices': 1}, 'data': {'dataset_name': 'losloop', 'batch_size': 64, 'seq_len': 12, 'pre_len': 2}, 'model': {'model': {'class_path': 'models.GCN', 'init_args': {'hidden_dim': 64, 'use_gsl': 2}}, 'learning_rate': 0.001, 'weight_decay': 0, 'loss': 'mse'}}}\n",
      "\u001b[31m[2025-03-06 06:13:53,047 INFO]\u001b[0mUsing device: cuda\n",
      "\u001b[31m[2025-03-06 06:13:53,047 INFO]\u001b[0mStarting training for 50 epochs...\n",
      "\u001b[31m[2025-03-06 06:13:53,147 INFO]\u001b[0m[Epoch 1/50] Train Loss: 0.221343, Val Loss: 119.140762, RMSE: 10.915162, MAE: 7.480754, Accuracy: 0.8142, R2: 0.4713, Expl.Var: 0.5527\n"
     ]
    },
    {
     "name": "stdout",
     "output_type": "stream",
     "text": [
      "File data/W_est_losloop_pre_len2.npy found. Loading existing adjacency matrix estimated by GSL from training data.\n",
      "GSL computed: GSL+Adj\n"
     ]
    },
    {
     "name": "stderr",
     "output_type": "stream",
     "text": [
      "\u001b[31m[2025-03-06 06:13:54,151 INFO]\u001b[0m[Epoch 11/50] Train Loss: 0.014191, Val Loss: 77.494102, RMSE: 8.803074, MAE: 6.146945, Accuracy: 0.8502, R2: 0.5972, Expl.Var: 0.5979\n",
      "\u001b[31m[2025-03-06 06:13:55,130 INFO]\u001b[0m[Epoch 21/50] Train Loss: 0.013148, Val Loss: 70.027740, RMSE: 8.368258, MAE: 5.925016, Accuracy: 0.8576, R2: 0.6358, Expl.Var: 0.6363\n",
      "\u001b[31m[2025-03-06 06:13:56,111 INFO]\u001b[0m[Epoch 31/50] Train Loss: 0.012703, Val Loss: 66.770744, RMSE: 8.171337, MAE: 5.835155, Accuracy: 0.8609, R2: 0.6526, Expl.Var: 0.6529\n",
      "\u001b[31m[2025-03-06 06:13:57,114 INFO]\u001b[0m[Epoch 41/50] Train Loss: 0.012502, Val Loss: 65.344170, RMSE: 8.083574, MAE: 5.809964, Accuracy: 0.8624, R2: 0.6599, Expl.Var: 0.6600\n",
      "\u001b[31m[2025-03-06 06:13:58,014 INFO]\u001b[0m[Epoch 50/50] Train Loss: 0.012399, Val Loss: 64.676682, RMSE: 8.042181, MAE: 5.784946, Accuracy: 0.8631, R2: 0.6634, Expl.Var: 0.6634\n",
      "\u001b[31m[2025-03-06 06:13:58,015 INFO]\u001b[0mModel saved to trained-models/losloop_GCN_seq12_pre2_gsl2.pt\n",
      "\u001b[31m[2025-03-06 06:13:58,015 INFO]\u001b[0mFinished training!\n",
      "\n",
      "\u001b[31m[2025-03-06 06:13:58,030 INFO]\u001b[0mLoaded config from configs/gcn-los-pre_len3.yaml: {'fit': {'trainer': {'max_epochs': 50, 'accelerator': 'cuda', 'devices': 1}, 'data': {'dataset_name': 'losloop', 'batch_size': 64, 'seq_len': 12, 'pre_len': 3}, 'model': {'model': {'class_path': 'models.GCN', 'init_args': {'hidden_dim': 64, 'use_gsl': 0}}, 'learning_rate': 0.001, 'weight_decay': 0, 'loss': 'mse'}}}\n",
      "\u001b[31m[2025-03-06 06:13:58,171 INFO]\u001b[0mUsing device: cuda\n",
      "\u001b[31m[2025-03-06 06:13:58,173 INFO]\u001b[0mStarting training for 50 epochs...\n",
      "\u001b[31m[2025-03-06 06:13:58,273 INFO]\u001b[0m[Epoch 1/50] Train Loss: 0.213274, Val Loss: 121.893326, RMSE: 11.040531, MAE: 7.528393, Accuracy: 0.8120, R2: 0.4580, Expl.Var: 0.5354\n"
     ]
    },
    {
     "name": "stdout",
     "output_type": "stream",
     "text": [
      "<class 'models.gcn.GCN'>\n"
     ]
    },
    {
     "name": "stderr",
     "output_type": "stream",
     "text": [
      "\u001b[31m[2025-03-06 06:13:59,269 INFO]\u001b[0m[Epoch 11/50] Train Loss: 0.014458, Val Loss: 80.565033, RMSE: 8.975802, MAE: 6.210964, Accuracy: 0.8472, R2: 0.5818, Expl.Var: 0.5826\n",
      "\u001b[31m[2025-03-06 06:14:00,302 INFO]\u001b[0m[Epoch 21/50] Train Loss: 0.013252, Val Loss: 71.750710, RMSE: 8.470579, MAE: 5.929371, Accuracy: 0.8558, R2: 0.6274, Expl.Var: 0.6279\n",
      "\u001b[31m[2025-03-06 06:14:01,279 INFO]\u001b[0m[Epoch 31/50] Train Loss: 0.012699, Val Loss: 67.701492, RMSE: 8.228091, MAE: 5.808223, Accuracy: 0.8599, R2: 0.6483, Expl.Var: 0.6487\n",
      "\u001b[31m[2025-03-06 06:14:02,259 INFO]\u001b[0m[Epoch 41/50] Train Loss: 0.012505, Val Loss: 66.259895, RMSE: 8.140018, MAE: 5.788033, Accuracy: 0.8614, R2: 0.6556, Expl.Var: 0.6556\n",
      "\u001b[31m[2025-03-06 06:14:03,125 INFO]\u001b[0m[Epoch 50/50] Train Loss: 0.012402, Val Loss: 65.643562, RMSE: 8.102072, MAE: 5.781898, Accuracy: 0.8621, R2: 0.6588, Expl.Var: 0.6588\n",
      "\u001b[31m[2025-03-06 06:14:03,125 INFO]\u001b[0mModel saved to trained-models/losloop_GCN_seq12_pre3_gsl0.pt\n",
      "\u001b[31m[2025-03-06 06:14:03,125 INFO]\u001b[0mFinished training!\n",
      "\n",
      "\u001b[31m[2025-03-06 06:14:03,147 INFO]\u001b[0mLoaded config from configs/gcn-los-gsl-pre_len3.yaml: {'fit': {'trainer': {'max_epochs': 50, 'accelerator': 'cuda', 'devices': 1}, 'data': {'dataset_name': 'losloop', 'batch_size': 64, 'seq_len': 12, 'pre_len': 3}, 'model': {'model': {'class_path': 'models.GCN', 'init_args': {'hidden_dim': 64, 'use_gsl': 1}}, 'learning_rate': 0.001, 'weight_decay': 0, 'loss': 'mse'}}}\n",
      "\u001b[31m[2025-03-06 06:14:03,333 INFO]\u001b[0mUsing device: cuda\n",
      "\u001b[31m[2025-03-06 06:14:03,335 INFO]\u001b[0mStarting training for 50 epochs...\n",
      "\u001b[31m[2025-03-06 06:14:03,439 INFO]\u001b[0m[Epoch 1/50] Train Loss: 0.212497, Val Loss: 129.512161, RMSE: 11.380341, MAE: 7.972747, Accuracy: 0.8063, R2: 0.4066, Expl.Var: 0.4613\n"
     ]
    },
    {
     "name": "stdout",
     "output_type": "stream",
     "text": [
      "File data/W_est_losloop_pre_len3.npy found. Loading existing adjacency matrix estimated by GSL from training data.\n",
      "GSL computed: Only GSL\n"
     ]
    },
    {
     "name": "stderr",
     "output_type": "stream",
     "text": [
      "\u001b[31m[2025-03-06 06:14:04,408 INFO]\u001b[0m[Epoch 11/50] Train Loss: 0.014177, Val Loss: 74.954590, RMSE: 8.657632, MAE: 5.661993, Accuracy: 0.8526, R2: 0.6108, Expl.Var: 0.6114\n",
      "\u001b[31m[2025-03-06 06:14:05,316 INFO]\u001b[0m[Epoch 21/50] Train Loss: 0.012957, Val Loss: 69.110321, RMSE: 8.313262, MAE: 5.540357, Accuracy: 0.8585, R2: 0.6422, Expl.Var: 0.6448\n",
      "\u001b[31m[2025-03-06 06:14:06,238 INFO]\u001b[0m[Epoch 31/50] Train Loss: 0.012669, Val Loss: 67.592621, RMSE: 8.221473, MAE: 5.494219, Accuracy: 0.8600, R2: 0.6503, Expl.Var: 0.6533\n",
      "\u001b[31m[2025-03-06 06:14:07,145 INFO]\u001b[0m[Epoch 41/50] Train Loss: 0.012490, Val Loss: 66.593948, RMSE: 8.160512, MAE: 5.445974, Accuracy: 0.8611, R2: 0.6555, Expl.Var: 0.6586\n",
      "\u001b[31m[2025-03-06 06:14:07,946 INFO]\u001b[0m[Epoch 50/50] Train Loss: 0.012364, Val Loss: 65.174057, RMSE: 8.073045, MAE: 5.452603, Accuracy: 0.8626, R2: 0.6616, Expl.Var: 0.6623\n",
      "\u001b[31m[2025-03-06 06:14:07,946 INFO]\u001b[0mModel saved to trained-models/losloop_GCN_seq12_pre3_gsl1.pt\n",
      "\u001b[31m[2025-03-06 06:14:07,946 INFO]\u001b[0mFinished training!\n",
      "\n",
      "\u001b[31m[2025-03-06 06:14:07,968 INFO]\u001b[0mLoaded config from configs/gcn-los-gsl-adj-pre_len3.yaml: {'fit': {'trainer': {'max_epochs': 50, 'accelerator': 'cuda', 'devices': 1}, 'data': {'dataset_name': 'losloop', 'batch_size': 64, 'seq_len': 12, 'pre_len': 3}, 'model': {'model': {'class_path': 'models.GCN', 'init_args': {'hidden_dim': 64, 'use_gsl': 2}}, 'learning_rate': 0.001, 'weight_decay': 0, 'loss': 'mse'}}}\n",
      "\u001b[31m[2025-03-06 06:14:08,103 INFO]\u001b[0mUsing device: cuda\n",
      "\u001b[31m[2025-03-06 06:14:08,108 INFO]\u001b[0mStarting training for 50 epochs...\n",
      "\u001b[31m[2025-03-06 06:14:08,199 INFO]\u001b[0m[Epoch 1/50] Train Loss: 0.213425, Val Loss: 123.167915, RMSE: 11.098104, MAE: 7.583211, Accuracy: 0.8111, R2: 0.4520, Expl.Var: 0.5280\n"
     ]
    },
    {
     "name": "stdout",
     "output_type": "stream",
     "text": [
      "File data/W_est_losloop_pre_len3.npy found. Loading existing adjacency matrix estimated by GSL from training data.\n",
      "GSL computed: GSL+Adj\n"
     ]
    },
    {
     "name": "stderr",
     "output_type": "stream",
     "text": [
      "\u001b[31m[2025-03-06 06:14:09,119 INFO]\u001b[0m[Epoch 11/50] Train Loss: 0.014795, Val Loss: 82.049423, RMSE: 9.058114, MAE: 6.281098, Accuracy: 0.8458, R2: 0.5741, Expl.Var: 0.5748\n",
      "\u001b[31m[2025-03-06 06:14:10,025 INFO]\u001b[0m[Epoch 21/50] Train Loss: 0.013652, Val Loss: 73.526939, RMSE: 8.574785, MAE: 6.018623, Accuracy: 0.8540, R2: 0.6182, Expl.Var: 0.6188\n",
      "\u001b[31m[2025-03-06 06:14:10,969 INFO]\u001b[0m[Epoch 31/50] Train Loss: 0.013128, Val Loss: 69.598625, RMSE: 8.342579, MAE: 5.909608, Accuracy: 0.8580, R2: 0.6385, Expl.Var: 0.6389\n",
      "\u001b[31m[2025-03-06 06:14:11,995 INFO]\u001b[0m[Epoch 41/50] Train Loss: 0.012942, Val Loss: 68.181755, RMSE: 8.257224, MAE: 5.886312, Accuracy: 0.8594, R2: 0.6457, Expl.Var: 0.6458\n",
      "\u001b[31m[2025-03-06 06:14:12,895 INFO]\u001b[0m[Epoch 50/50] Train Loss: 0.012838, Val Loss: 67.535149, RMSE: 8.217978, MAE: 5.880149, Accuracy: 0.8601, R2: 0.6490, Expl.Var: 0.6490\n",
      "\u001b[31m[2025-03-06 06:14:12,895 INFO]\u001b[0mModel saved to trained-models/losloop_GCN_seq12_pre3_gsl2.pt\n",
      "\u001b[31m[2025-03-06 06:14:12,900 INFO]\u001b[0mFinished training!\n",
      "\n",
      "\u001b[31m[2025-03-06 06:14:12,912 INFO]\u001b[0mLoaded config from configs/gcn-los-pre_len4.yaml: {'fit': {'trainer': {'max_epochs': 50, 'accelerator': 'cuda', 'devices': 1}, 'data': {'dataset_name': 'losloop', 'batch_size': 64, 'seq_len': 12, 'pre_len': 4}, 'model': {'model': {'class_path': 'models.GCN', 'init_args': {'hidden_dim': 64, 'use_gsl': 0}}, 'learning_rate': 0.001, 'weight_decay': 0, 'loss': 'mse'}}}\n",
      "\u001b[31m[2025-03-06 06:14:13,057 INFO]\u001b[0mUsing device: cuda\n",
      "\u001b[31m[2025-03-06 06:14:13,057 INFO]\u001b[0mStarting training for 50 epochs...\n",
      "\u001b[31m[2025-03-06 06:14:13,168 INFO]\u001b[0m[Epoch 1/50] Train Loss: 0.153071, Val Loss: 136.133774, RMSE: 11.667638, MAE: 7.970165, Accuracy: 0.8014, R2: 0.4152, Expl.Var: 0.5017\n"
     ]
    },
    {
     "name": "stdout",
     "output_type": "stream",
     "text": [
      "<class 'models.gcn.GCN'>\n"
     ]
    },
    {
     "name": "stderr",
     "output_type": "stream",
     "text": [
      "\u001b[31m[2025-03-06 06:14:14,123 INFO]\u001b[0m[Epoch 11/50] Train Loss: 0.015042, Val Loss: 84.832474, RMSE: 9.210455, MAE: 6.367205, Accuracy: 0.8432, R2: 0.5603, Expl.Var: 0.5613\n",
      "\u001b[31m[2025-03-06 06:14:15,083 INFO]\u001b[0m[Epoch 21/50] Train Loss: 0.013745, Val Loss: 75.148460, RMSE: 8.668821, MAE: 6.064391, Accuracy: 0.8524, R2: 0.6102, Expl.Var: 0.6107\n",
      "\u001b[31m[2025-03-06 06:14:16,003 INFO]\u001b[0m[Epoch 31/50] Train Loss: 0.013197, Val Loss: 71.006401, RMSE: 8.426530, MAE: 5.931001, Accuracy: 0.8565, R2: 0.6316, Expl.Var: 0.6320\n",
      "\u001b[31m[2025-03-06 06:14:16,910 INFO]\u001b[0m[Epoch 41/50] Train Loss: 0.012987, Val Loss: 69.393028, RMSE: 8.330248, MAE: 5.884512, Accuracy: 0.8582, R2: 0.6399, Expl.Var: 0.6402\n",
      "\u001b[31m[2025-03-06 06:14:17,729 INFO]\u001b[0m[Epoch 50/50] Train Loss: 0.012871, Val Loss: 68.638596, RMSE: 8.284842, MAE: 5.875875, Accuracy: 0.8589, R2: 0.6437, Expl.Var: 0.6437\n",
      "\u001b[31m[2025-03-06 06:14:17,733 INFO]\u001b[0mModel saved to trained-models/losloop_GCN_seq12_pre4_gsl0.pt\n",
      "\u001b[31m[2025-03-06 06:14:17,735 INFO]\u001b[0mFinished training!\n",
      "\n",
      "\u001b[31m[2025-03-06 06:14:17,735 INFO]\u001b[0mLoaded config from configs/gcn-los-gsl-pre_len4.yaml: {'fit': {'trainer': {'max_epochs': 50, 'accelerator': 'cuda', 'devices': 1}, 'data': {'dataset_name': 'losloop', 'batch_size': 64, 'seq_len': 12, 'pre_len': 4}, 'model': {'model': {'class_path': 'models.GCN', 'init_args': {'hidden_dim': 64, 'use_gsl': 1}}, 'learning_rate': 0.001, 'weight_decay': 0, 'loss': 'mse'}}}\n",
      "\u001b[31m[2025-03-06 06:14:17,931 INFO]\u001b[0mUsing device: cuda\n",
      "\u001b[31m[2025-03-06 06:14:17,939 INFO]\u001b[0mStarting training for 50 epochs...\n",
      "\u001b[31m[2025-03-06 06:14:18,037 INFO]\u001b[0m[Epoch 1/50] Train Loss: 0.154405, Val Loss: 153.181519, RMSE: 12.376652, MAE: 8.609421, Accuracy: 0.7893, R2: 0.3114, Expl.Var: 0.3597\n"
     ]
    },
    {
     "name": "stdout",
     "output_type": "stream",
     "text": [
      "File data/W_est_losloop_pre_len4.npy found. Loading existing adjacency matrix estimated by GSL from training data.\n",
      "GSL computed: Only GSL\n"
     ]
    },
    {
     "name": "stderr",
     "output_type": "stream",
     "text": [
      "\u001b[31m[2025-03-06 06:14:18,942 INFO]\u001b[0m[Epoch 11/50] Train Loss: 0.016788, Val Loss: 90.705940, RMSE: 9.523967, MAE: 6.345337, Accuracy: 0.8378, R2: 0.5302, Expl.Var: 0.5314\n",
      "\u001b[31m[2025-03-06 06:14:19,866 INFO]\u001b[0m[Epoch 21/50] Train Loss: 0.015725, Val Loss: 85.703957, RMSE: 9.257643, MAE: 6.243046, Accuracy: 0.8424, R2: 0.5568, Expl.Var: 0.5591\n",
      "\u001b[31m[2025-03-06 06:14:20,788 INFO]\u001b[0m[Epoch 31/50] Train Loss: 0.015459, Val Loss: 84.329552, RMSE: 9.183112, MAE: 6.175889, Accuracy: 0.8437, R2: 0.5646, Expl.Var: 0.5678\n",
      "\u001b[31m[2025-03-06 06:14:21,754 INFO]\u001b[0m[Epoch 41/50] Train Loss: 0.015302, Val Loss: 83.550209, RMSE: 9.140580, MAE: 6.116855, Accuracy: 0.8444, R2: 0.5694, Expl.Var: 0.5736\n",
      "\u001b[31m[2025-03-06 06:14:22,634 INFO]\u001b[0m[Epoch 50/50] Train Loss: 0.015176, Val Loss: 82.205345, RMSE: 9.066716, MAE: 6.085160, Accuracy: 0.8456, R2: 0.5754, Expl.Var: 0.5784\n",
      "\u001b[31m[2025-03-06 06:14:22,638 INFO]\u001b[0mModel saved to trained-models/losloop_GCN_seq12_pre4_gsl1.pt\n",
      "\u001b[31m[2025-03-06 06:14:22,640 INFO]\u001b[0mFinished training!\n",
      "\n",
      "\u001b[31m[2025-03-06 06:14:22,654 INFO]\u001b[0mLoaded config from configs/gcn-los-gsl-adj-pre_len4.yaml: {'fit': {'trainer': {'max_epochs': 50, 'accelerator': 'cuda', 'devices': 1}, 'data': {'dataset_name': 'losloop', 'batch_size': 64, 'seq_len': 12, 'pre_len': 4}, 'model': {'model': {'class_path': 'models.GCN', 'init_args': {'hidden_dim': 64, 'use_gsl': 2}}, 'learning_rate': 0.001, 'weight_decay': 0, 'loss': 'mse'}}}\n",
      "\u001b[31m[2025-03-06 06:14:22,845 INFO]\u001b[0mUsing device: cuda\n",
      "\u001b[31m[2025-03-06 06:14:22,850 INFO]\u001b[0mStarting training for 50 epochs...\n",
      "\u001b[31m[2025-03-06 06:14:22,952 INFO]\u001b[0m[Epoch 1/50] Train Loss: 0.153309, Val Loss: 138.145248, RMSE: 11.753521, MAE: 8.045402, Accuracy: 0.7999, R2: 0.4056, Expl.Var: 0.4894\n"
     ]
    },
    {
     "name": "stdout",
     "output_type": "stream",
     "text": [
      "File data/W_est_losloop_pre_len4.npy found. Loading existing adjacency matrix estimated by GSL from training data.\n",
      "GSL computed: GSL+Adj\n"
     ]
    },
    {
     "name": "stderr",
     "output_type": "stream",
     "text": [
      "\u001b[31m[2025-03-06 06:14:23,935 INFO]\u001b[0m[Epoch 11/50] Train Loss: 0.015617, Val Loss: 87.534180, RMSE: 9.355970, MAE: 6.480511, Accuracy: 0.8407, R2: 0.5464, Expl.Var: 0.5473\n",
      "\u001b[31m[2025-03-06 06:14:24,905 INFO]\u001b[0m[Epoch 21/50] Train Loss: 0.014445, Val Loss: 78.438019, RMSE: 8.856524, MAE: 6.209815, Accuracy: 0.8492, R2: 0.5932, Expl.Var: 0.5938\n",
      "\u001b[31m[2025-03-06 06:14:25,919 INFO]\u001b[0m[Epoch 31/50] Train Loss: 0.013954, Val Loss: 74.575729, RMSE: 8.635724, MAE: 6.088106, Accuracy: 0.8530, R2: 0.6132, Expl.Var: 0.6139\n",
      "\u001b[31m[2025-03-06 06:14:26,897 INFO]\u001b[0m[Epoch 41/50] Train Loss: 0.013757, Val Loss: 72.989059, RMSE: 8.543364, MAE: 6.044934, Accuracy: 0.8545, R2: 0.6213, Expl.Var: 0.6218\n",
      "\u001b[31m[2025-03-06 06:14:27,725 INFO]\u001b[0m[Epoch 50/50] Train Loss: 0.013633, Val Loss: 72.173462, RMSE: 8.495497, MAE: 6.027833, Accuracy: 0.8554, R2: 0.6254, Expl.Var: 0.6256\n",
      "\u001b[31m[2025-03-06 06:14:27,727 INFO]\u001b[0mModel saved to trained-models/losloop_GCN_seq12_pre4_gsl2.pt\n",
      "\u001b[31m[2025-03-06 06:14:27,727 INFO]\u001b[0mFinished training!\n",
      "\n",
      "\u001b[31m[2025-03-06 06:14:27,737 INFO]\u001b[0mLoaded config from configs/gcn-sz-pre_len1.yaml: {'fit': {'trainer': {'max_epochs': 50, 'accelerator': 'cuda', 'devices': 1}, 'data': {'dataset_name': 'shenzhen', 'batch_size': 64, 'seq_len': 12, 'pre_len': 1}, 'model': {'model': {'class_path': 'models.GCN', 'init_args': {'hidden_dim': 100, 'use_gsl': 0}}, 'learning_rate': 0.001, 'weight_decay': 0, 'loss': 'mse'}}}\n",
      "\u001b[31m[2025-03-06 06:14:27,894 INFO]\u001b[0mUsing device: cuda\n",
      "\u001b[31m[2025-03-06 06:14:27,902 INFO]\u001b[0mStarting training for 50 epochs...\n",
      "\u001b[31m[2025-03-06 06:14:28,039 INFO]\u001b[0m[Epoch 1/50] Train Loss: 0.011905, Val Loss: 40.238445, RMSE: 6.343378, MAE: 4.885591, Accuracy: 0.5580, R2: 0.6446, Expl.Var: 0.6689\n"
     ]
    },
    {
     "name": "stdout",
     "output_type": "stream",
     "text": [
      "<class 'models.gcn.GCN'>\n"
     ]
    },
    {
     "name": "stderr",
     "output_type": "stream",
     "text": [
      "\u001b[31m[2025-03-06 06:14:29,360 INFO]\u001b[0m[Epoch 11/50] Train Loss: 0.007895, Val Loss: 35.548321, RMSE: 5.962241, MAE: 4.407365, Accuracy: 0.5846, R2: 0.6742, Expl.Var: 0.6742\n",
      "\u001b[31m[2025-03-06 06:14:30,698 INFO]\u001b[0m[Epoch 21/50] Train Loss: 0.007872, Val Loss: 35.526062, RMSE: 5.960374, MAE: 4.411602, Accuracy: 0.5847, R2: 0.6745, Expl.Var: 0.6746\n",
      "\u001b[31m[2025-03-06 06:14:32,010 INFO]\u001b[0m[Epoch 31/50] Train Loss: 0.007870, Val Loss: 35.535801, RMSE: 5.961191, MAE: 4.416032, Accuracy: 0.5846, R2: 0.6744, Expl.Var: 0.6745\n",
      "\u001b[31m[2025-03-06 06:14:33,344 INFO]\u001b[0m[Epoch 41/50] Train Loss: 0.007871, Val Loss: 35.524899, RMSE: 5.960277, MAE: 4.415260, Accuracy: 0.5847, R2: 0.6745, Expl.Var: 0.6746\n",
      "\u001b[31m[2025-03-06 06:14:34,435 INFO]\u001b[0m[Epoch 50/50] Train Loss: 0.007873, Val Loss: 35.494755, RMSE: 5.957747, MAE: 4.409162, Accuracy: 0.5849, R2: 0.6747, Expl.Var: 0.6747\n",
      "\u001b[31m[2025-03-06 06:14:34,442 INFO]\u001b[0mModel saved to trained-models/shenzhen_GCN_seq12_pre1_gsl0.pt\n",
      "\u001b[31m[2025-03-06 06:14:34,442 INFO]\u001b[0mFinished training!\n",
      "\n",
      "\u001b[31m[2025-03-06 06:14:34,451 INFO]\u001b[0mLoaded config from configs/gcn-sz-gsl-pre_len1.yaml: {'fit': {'trainer': {'max_epochs': 50, 'accelerator': 'cuda', 'devices': 1}, 'data': {'dataset_name': 'shenzhen', 'batch_size': 64, 'seq_len': 12, 'pre_len': 1}, 'model': {'model': {'class_path': 'models.GCN', 'init_args': {'hidden_dim': 100, 'use_gsl': 1}}, 'learning_rate': 0.001, 'weight_decay': 0, 'loss': 'mse'}}}\n",
      "\u001b[31m[2025-03-06 06:14:34,609 INFO]\u001b[0mUsing device: cuda\n",
      "\u001b[31m[2025-03-06 06:14:34,616 INFO]\u001b[0mStarting training for 50 epochs...\n",
      "\u001b[31m[2025-03-06 06:14:34,739 INFO]\u001b[0m[Epoch 1/50] Train Loss: 0.008880, Val Loss: 22.920988, RMSE: 4.787587, MAE: 3.576759, Accuracy: 0.6664, R2: 0.7980, Expl.Var: 0.8300\n"
     ]
    },
    {
     "name": "stdout",
     "output_type": "stream",
     "text": [
      "File data/W_est_shenzhen_pre_len1.npy found. Loading existing adjacency matrix estimated by GSL from training data.\n",
      "GSL computed: Only GSL\n"
     ]
    },
    {
     "name": "stderr",
     "output_type": "stream",
     "text": [
      "\u001b[31m[2025-03-06 06:14:36,069 INFO]\u001b[0m[Epoch 11/50] Train Loss: 0.004317, Val Loss: 16.941420, RMSE: 4.115995, MAE: 2.710764, Accuracy: 0.7132, R2: 0.8447, Expl.Var: 0.8448\n",
      "\u001b[31m[2025-03-06 06:14:37,428 INFO]\u001b[0m[Epoch 21/50] Train Loss: 0.004294, Val Loss: 16.929361, RMSE: 4.114531, MAE: 2.762727, Accuracy: 0.7133, R2: 0.8448, Expl.Var: 0.8448\n",
      "\u001b[31m[2025-03-06 06:14:38,859 INFO]\u001b[0m[Epoch 31/50] Train Loss: 0.004290, Val Loss: 16.923702, RMSE: 4.113843, MAE: 2.772419, Accuracy: 0.7134, R2: 0.8449, Expl.Var: 0.8449\n",
      "\u001b[31m[2025-03-06 06:14:40,121 INFO]\u001b[0m[Epoch 41/50] Train Loss: 0.004289, Val Loss: 16.942984, RMSE: 4.116186, MAE: 2.771953, Accuracy: 0.7132, R2: 0.8447, Expl.Var: 0.8447\n",
      "\u001b[31m[2025-03-06 06:14:41,252 INFO]\u001b[0m[Epoch 50/50] Train Loss: 0.004288, Val Loss: 16.932541, RMSE: 4.114917, MAE: 2.782268, Accuracy: 0.7133, R2: 0.8449, Expl.Var: 0.8451\n",
      "\u001b[31m[2025-03-06 06:14:41,262 INFO]\u001b[0mModel saved to trained-models/shenzhen_GCN_seq12_pre1_gsl1.pt\n",
      "\u001b[31m[2025-03-06 06:14:41,264 INFO]\u001b[0mFinished training!\n",
      "\n",
      "\u001b[31m[2025-03-06 06:14:41,274 INFO]\u001b[0mLoaded config from configs/gcn-sz-gsl-adj-pre_len1.yaml: {'fit': {'trainer': {'max_epochs': 50, 'accelerator': 'cuda', 'devices': 1}, 'data': {'dataset_name': 'shenzhen', 'batch_size': 64, 'seq_len': 12, 'pre_len': 1}, 'model': {'model': {'class_path': 'models.GCN', 'init_args': {'hidden_dim': 100, 'use_gsl': 2}}, 'learning_rate': 0.001, 'weight_decay': 0, 'loss': 'mse'}}}\n",
      "\u001b[31m[2025-03-06 06:14:41,441 INFO]\u001b[0mUsing device: cuda\n",
      "\u001b[31m[2025-03-06 06:14:41,444 INFO]\u001b[0mStarting training for 50 epochs...\n",
      "\u001b[31m[2025-03-06 06:14:41,585 INFO]\u001b[0m[Epoch 1/50] Train Loss: 0.011905, Val Loss: 40.238445, RMSE: 6.343378, MAE: 4.885591, Accuracy: 0.5580, R2: 0.6446, Expl.Var: 0.6689\n"
     ]
    },
    {
     "name": "stdout",
     "output_type": "stream",
     "text": [
      "File data/W_est_shenzhen_pre_len1.npy found. Loading existing adjacency matrix estimated by GSL from training data.\n",
      "GSL computed: GSL+Adj\n"
     ]
    },
    {
     "name": "stderr",
     "output_type": "stream",
     "text": [
      "\u001b[31m[2025-03-06 06:14:42,927 INFO]\u001b[0m[Epoch 11/50] Train Loss: 0.007895, Val Loss: 35.548321, RMSE: 5.962241, MAE: 4.407365, Accuracy: 0.5846, R2: 0.6742, Expl.Var: 0.6742\n",
      "\u001b[31m[2025-03-06 06:14:44,183 INFO]\u001b[0m[Epoch 21/50] Train Loss: 0.007872, Val Loss: 35.526062, RMSE: 5.960374, MAE: 4.411602, Accuracy: 0.5847, R2: 0.6745, Expl.Var: 0.6746\n",
      "\u001b[31m[2025-03-06 06:14:45,477 INFO]\u001b[0m[Epoch 31/50] Train Loss: 0.007870, Val Loss: 35.535801, RMSE: 5.961191, MAE: 4.416032, Accuracy: 0.5846, R2: 0.6744, Expl.Var: 0.6745\n",
      "\u001b[31m[2025-03-06 06:14:46,682 INFO]\u001b[0m[Epoch 41/50] Train Loss: 0.007871, Val Loss: 35.524899, RMSE: 5.960277, MAE: 4.415260, Accuracy: 0.5847, R2: 0.6745, Expl.Var: 0.6746\n",
      "\u001b[31m[2025-03-06 06:14:47,825 INFO]\u001b[0m[Epoch 50/50] Train Loss: 0.007873, Val Loss: 35.494755, RMSE: 5.957747, MAE: 4.409162, Accuracy: 0.5849, R2: 0.6747, Expl.Var: 0.6747\n",
      "\u001b[31m[2025-03-06 06:14:47,827 INFO]\u001b[0mModel saved to trained-models/shenzhen_GCN_seq12_pre1_gsl2.pt\n",
      "\u001b[31m[2025-03-06 06:14:47,829 INFO]\u001b[0mFinished training!\n",
      "\n",
      "\u001b[31m[2025-03-06 06:14:47,842 INFO]\u001b[0mLoaded config from configs/gcn-sz-pre_len2.yaml: {'fit': {'trainer': {'max_epochs': 50, 'accelerator': 'cuda', 'devices': 1}, 'data': {'dataset_name': 'shenzhen', 'batch_size': 64, 'seq_len': 12, 'pre_len': 2}, 'model': {'model': {'class_path': 'models.GCN', 'init_args': {'hidden_dim': 100, 'use_gsl': 0}}, 'learning_rate': 0.001, 'weight_decay': 0, 'loss': 'mse'}}}\n",
      "\u001b[31m[2025-03-06 06:14:48,018 INFO]\u001b[0mUsing device: cuda\n",
      "\u001b[31m[2025-03-06 06:14:48,019 INFO]\u001b[0mStarting training for 50 epochs...\n",
      "\u001b[31m[2025-03-06 06:14:48,172 INFO]\u001b[0m[Epoch 1/50] Train Loss: 0.019265, Val Loss: 44.086983, RMSE: 6.639803, MAE: 5.115513, Accuracy: 0.5373, R2: 0.6016, Expl.Var: 0.6102\n"
     ]
    },
    {
     "name": "stdout",
     "output_type": "stream",
     "text": [
      "<class 'models.gcn.GCN'>\n"
     ]
    },
    {
     "name": "stderr",
     "output_type": "stream",
     "text": [
      "\u001b[31m[2025-03-06 06:14:49,401 INFO]\u001b[0m[Epoch 11/50] Train Loss: 0.008011, Val Loss: 35.960667, RMSE: 5.996721, MAE: 4.448488, Accuracy: 0.5821, R2: 0.6706, Expl.Var: 0.6708\n",
      "\u001b[31m[2025-03-06 06:14:50,729 INFO]\u001b[0m[Epoch 21/50] Train Loss: 0.007947, Val Loss: 35.735130, RMSE: 5.977887, MAE: 4.421966, Accuracy: 0.5834, R2: 0.6725, Expl.Var: 0.6726\n",
      "\u001b[31m[2025-03-06 06:14:52,001 INFO]\u001b[0m[Epoch 31/50] Train Loss: 0.007940, Val Loss: 35.710938, RMSE: 5.975863, MAE: 4.419609, Accuracy: 0.5836, R2: 0.6727, Expl.Var: 0.6727\n",
      "\u001b[31m[2025-03-06 06:14:53,313 INFO]\u001b[0m[Epoch 41/50] Train Loss: 0.007936, Val Loss: 35.699879, RMSE: 5.974937, MAE: 4.423347, Accuracy: 0.5837, R2: 0.6728, Expl.Var: 0.6728\n",
      "\u001b[31m[2025-03-06 06:14:54,510 INFO]\u001b[0m[Epoch 50/50] Train Loss: 0.007932, Val Loss: 35.801029, RMSE: 5.983396, MAE: 4.436887, Accuracy: 0.5831, R2: 0.6721, Expl.Var: 0.6724\n",
      "\u001b[31m[2025-03-06 06:14:54,522 INFO]\u001b[0mModel saved to trained-models/shenzhen_GCN_seq12_pre2_gsl0.pt\n",
      "\u001b[31m[2025-03-06 06:14:54,522 INFO]\u001b[0mFinished training!\n",
      "\n",
      "\u001b[31m[2025-03-06 06:14:54,533 INFO]\u001b[0mLoaded config from configs/gcn-sz-gsl-pre_len2.yaml: {'fit': {'trainer': {'max_epochs': 50, 'accelerator': 'cuda', 'devices': 1}, 'data': {'dataset_name': 'shenzhen', 'batch_size': 64, 'seq_len': 12, 'pre_len': 2}, 'model': {'model': {'class_path': 'models.GCN', 'init_args': {'hidden_dim': 100, 'use_gsl': 1}}, 'learning_rate': 0.001, 'weight_decay': 0, 'loss': 'mse'}}}\n",
      "\u001b[31m[2025-03-06 06:14:54,761 INFO]\u001b[0mUsing device: cuda\n",
      "\u001b[31m[2025-03-06 06:14:54,763 INFO]\u001b[0mStarting training for 50 epochs...\n",
      "\u001b[31m[2025-03-06 06:14:54,890 INFO]\u001b[0m[Epoch 1/50] Train Loss: 0.016863, Val Loss: 29.968515, RMSE: 5.474350, MAE: 4.099450, Accuracy: 0.6185, R2: 0.7328, Expl.Var: 0.7534\n"
     ]
    },
    {
     "name": "stdout",
     "output_type": "stream",
     "text": [
      "File data/W_est_shenzhen_pre_len2.npy found. Loading existing adjacency matrix estimated by GSL from training data.\n",
      "GSL computed: Only GSL\n"
     ]
    },
    {
     "name": "stderr",
     "output_type": "stream",
     "text": [
      "\u001b[31m[2025-03-06 06:14:56,094 INFO]\u001b[0m[Epoch 11/50] Train Loss: 0.004456, Val Loss: 17.378284, RMSE: 4.168727, MAE: 2.727508, Accuracy: 0.7095, R2: 0.8407, Expl.Var: 0.8407\n",
      "\u001b[31m[2025-03-06 06:14:57,278 INFO]\u001b[0m[Epoch 21/50] Train Loss: 0.004403, Val Loss: 17.258402, RMSE: 4.154323, MAE: 2.766807, Accuracy: 0.7105, R2: 0.8418, Expl.Var: 0.8419\n",
      "\u001b[31m[2025-03-06 06:14:58,460 INFO]\u001b[0m[Epoch 31/50] Train Loss: 0.004397, Val Loss: 17.285278, RMSE: 4.157557, MAE: 2.800460, Accuracy: 0.7103, R2: 0.8416, Expl.Var: 0.8419\n",
      "\u001b[31m[2025-03-06 06:14:59,652 INFO]\u001b[0m[Epoch 41/50] Train Loss: 0.004394, Val Loss: 17.269541, RMSE: 4.155663, MAE: 2.805779, Accuracy: 0.7104, R2: 0.8418, Expl.Var: 0.8420\n",
      "\u001b[31m[2025-03-06 06:15:00,742 INFO]\u001b[0m[Epoch 50/50] Train Loss: 0.004384, Val Loss: 17.285261, RMSE: 4.157555, MAE: 2.805136, Accuracy: 0.7103, R2: 0.8416, Expl.Var: 0.8416\n",
      "\u001b[31m[2025-03-06 06:15:00,742 INFO]\u001b[0mModel saved to trained-models/shenzhen_GCN_seq12_pre2_gsl1.pt\n",
      "\u001b[31m[2025-03-06 06:15:00,742 INFO]\u001b[0mFinished training!\n",
      "\n",
      "\u001b[31m[2025-03-06 06:15:00,756 INFO]\u001b[0mLoaded config from configs/gcn-sz-gsl-adj-pre_len2.yaml: {'fit': {'trainer': {'max_epochs': 50, 'accelerator': 'cuda', 'devices': 1}, 'data': {'dataset_name': 'shenzhen', 'batch_size': 64, 'seq_len': 12, 'pre_len': 2}, 'model': {'model': {'class_path': 'models.GCN', 'init_args': {'hidden_dim': 100, 'use_gsl': 2}}, 'learning_rate': 0.001, 'weight_decay': 0, 'loss': 'mse'}}}\n",
      "\u001b[31m[2025-03-06 06:15:00,920 INFO]\u001b[0mUsing device: cuda\n",
      "\u001b[31m[2025-03-06 06:15:00,920 INFO]\u001b[0mStarting training for 50 epochs...\n",
      "\u001b[31m[2025-03-06 06:15:01,047 INFO]\u001b[0m[Epoch 1/50] Train Loss: 0.019265, Val Loss: 44.086983, RMSE: 6.639803, MAE: 5.115513, Accuracy: 0.5373, R2: 0.6016, Expl.Var: 0.6102\n"
     ]
    },
    {
     "name": "stdout",
     "output_type": "stream",
     "text": [
      "File data/W_est_shenzhen_pre_len2.npy found. Loading existing adjacency matrix estimated by GSL from training data.\n",
      "GSL computed: GSL+Adj\n"
     ]
    },
    {
     "name": "stderr",
     "output_type": "stream",
     "text": [
      "\u001b[31m[2025-03-06 06:15:02,265 INFO]\u001b[0m[Epoch 11/50] Train Loss: 0.008011, Val Loss: 35.960667, RMSE: 5.996721, MAE: 4.448488, Accuracy: 0.5821, R2: 0.6706, Expl.Var: 0.6708\n",
      "\u001b[31m[2025-03-06 06:15:03,410 INFO]\u001b[0m[Epoch 21/50] Train Loss: 0.007947, Val Loss: 35.735130, RMSE: 5.977887, MAE: 4.421966, Accuracy: 0.5834, R2: 0.6725, Expl.Var: 0.6726\n",
      "\u001b[31m[2025-03-06 06:15:04,613 INFO]\u001b[0m[Epoch 31/50] Train Loss: 0.007940, Val Loss: 35.710938, RMSE: 5.975863, MAE: 4.419609, Accuracy: 0.5836, R2: 0.6727, Expl.Var: 0.6727\n",
      "\u001b[31m[2025-03-06 06:15:05,788 INFO]\u001b[0m[Epoch 41/50] Train Loss: 0.007936, Val Loss: 35.699879, RMSE: 5.974937, MAE: 4.423347, Accuracy: 0.5837, R2: 0.6728, Expl.Var: 0.6728\n",
      "\u001b[31m[2025-03-06 06:15:06,901 INFO]\u001b[0m[Epoch 50/50] Train Loss: 0.007932, Val Loss: 35.801029, RMSE: 5.983396, MAE: 4.436887, Accuracy: 0.5831, R2: 0.6721, Expl.Var: 0.6724\n",
      "\u001b[31m[2025-03-06 06:15:06,901 INFO]\u001b[0mModel saved to trained-models/shenzhen_GCN_seq12_pre2_gsl2.pt\n",
      "\u001b[31m[2025-03-06 06:15:06,901 INFO]\u001b[0mFinished training!\n",
      "\n",
      "\u001b[31m[2025-03-06 06:15:06,916 INFO]\u001b[0mLoaded config from configs/gcn-sz-pre_len3.yaml: {'fit': {'trainer': {'max_epochs': 50, 'accelerator': 'cuda', 'devices': 1}, 'data': {'dataset_name': 'shenzhen', 'batch_size': 64, 'seq_len': 12, 'pre_len': 3}, 'model': {'model': {'class_path': 'models.GCN', 'init_args': {'hidden_dim': 100, 'use_gsl': 0}}, 'learning_rate': 0.001, 'weight_decay': 0, 'loss': 'mse'}}}\n",
      "\u001b[31m[2025-03-06 06:15:07,099 INFO]\u001b[0mUsing device: cuda\n",
      "\u001b[31m[2025-03-06 06:15:07,104 INFO]\u001b[0mStarting training for 50 epochs...\n",
      "\u001b[31m[2025-03-06 06:15:07,227 INFO]\u001b[0m[Epoch 1/50] Train Loss: 0.012428, Val Loss: 42.848755, RMSE: 6.545896, MAE: 5.154042, Accuracy: 0.5438, R2: 0.6150, Expl.Var: 0.6272\n"
     ]
    },
    {
     "name": "stdout",
     "output_type": "stream",
     "text": [
      "<class 'models.gcn.GCN'>\n"
     ]
    },
    {
     "name": "stderr",
     "output_type": "stream",
     "text": [
      "\u001b[31m[2025-03-06 06:15:08,536 INFO]\u001b[0m[Epoch 11/50] Train Loss: 0.008007, Val Loss: 35.932995, RMSE: 5.994414, MAE: 4.437728, Accuracy: 0.5823, R2: 0.6707, Expl.Var: 0.6708\n",
      "\u001b[31m[2025-03-06 06:15:09,830 INFO]\u001b[0m[Epoch 21/50] Train Loss: 0.007991, Val Loss: 35.926640, RMSE: 5.993884, MAE: 4.443403, Accuracy: 0.5823, R2: 0.6709, Expl.Var: 0.6711\n",
      "\u001b[31m[2025-03-06 06:15:11,153 INFO]\u001b[0m[Epoch 31/50] Train Loss: 0.007992, Val Loss: 35.867153, RMSE: 5.988919, MAE: 4.435803, Accuracy: 0.5827, R2: 0.6713, Expl.Var: 0.6713\n",
      "\u001b[31m[2025-03-06 06:15:12,469 INFO]\u001b[0m[Epoch 41/50] Train Loss: 0.007989, Val Loss: 35.919144, RMSE: 5.993258, MAE: 4.444239, Accuracy: 0.5824, R2: 0.6709, Expl.Var: 0.6710\n",
      "\u001b[31m[2025-03-06 06:15:13,618 INFO]\u001b[0m[Epoch 50/50] Train Loss: 0.007991, Val Loss: 35.896084, RMSE: 5.991334, MAE: 4.438394, Accuracy: 0.5825, R2: 0.6711, Expl.Var: 0.6712\n",
      "\u001b[31m[2025-03-06 06:15:13,621 INFO]\u001b[0mModel saved to trained-models/shenzhen_GCN_seq12_pre3_gsl0.pt\n",
      "\u001b[31m[2025-03-06 06:15:13,621 INFO]\u001b[0mFinished training!\n",
      "\n",
      "\u001b[31m[2025-03-06 06:15:13,639 INFO]\u001b[0mLoaded config from configs/gcn-sz-gsl-pre_len3.yaml: {'fit': {'trainer': {'max_epochs': 50, 'accelerator': 'cuda', 'devices': 1}, 'data': {'dataset_name': 'shenzhen', 'batch_size': 64, 'seq_len': 12, 'pre_len': 3}, 'model': {'model': {'class_path': 'models.GCN', 'init_args': {'hidden_dim': 100, 'use_gsl': 1}}, 'learning_rate': 0.001, 'weight_decay': 0, 'loss': 'mse'}}}\n",
      "\u001b[31m[2025-03-06 06:15:13,835 INFO]\u001b[0mUsing device: cuda\n",
      "\u001b[31m[2025-03-06 06:15:13,838 INFO]\u001b[0mStarting training for 50 epochs...\n",
      "\u001b[31m[2025-03-06 06:15:13,985 INFO]\u001b[0m[Epoch 1/50] Train Loss: 0.009446, Val Loss: 25.076780, RMSE: 5.007672, MAE: 3.775030, Accuracy: 0.6510, R2: 0.7745, Expl.Var: 0.7891\n"
     ]
    },
    {
     "name": "stdout",
     "output_type": "stream",
     "text": [
      "File data/W_est_shenzhen_pre_len3.npy found. Loading existing adjacency matrix estimated by GSL from training data.\n",
      "GSL computed: Only GSL\n"
     ]
    },
    {
     "name": "stderr",
     "output_type": "stream",
     "text": [
      "\u001b[31m[2025-03-06 06:15:15,383 INFO]\u001b[0m[Epoch 11/50] Train Loss: 0.004487, Val Loss: 17.536955, RMSE: 4.187715, MAE: 2.786703, Accuracy: 0.7082, R2: 0.8393, Expl.Var: 0.8393\n",
      "\u001b[31m[2025-03-06 06:15:16,626 INFO]\u001b[0m[Epoch 21/50] Train Loss: 0.004474, Val Loss: 17.548023, RMSE: 4.189036, MAE: 2.823782, Accuracy: 0.7081, R2: 0.8392, Expl.Var: 0.8392\n",
      "\u001b[31m[2025-03-06 06:15:18,018 INFO]\u001b[0m[Epoch 31/50] Train Loss: 0.004473, Val Loss: 17.554634, RMSE: 4.189825, MAE: 2.836478, Accuracy: 0.7080, R2: 0.8392, Expl.Var: 0.8395\n",
      "\u001b[31m[2025-03-06 06:15:19,418 INFO]\u001b[0m[Epoch 41/50] Train Loss: 0.004468, Val Loss: 17.568302, RMSE: 4.191456, MAE: 2.832502, Accuracy: 0.7079, R2: 0.8390, Expl.Var: 0.8390\n",
      "\u001b[31m[2025-03-06 06:15:20,824 INFO]\u001b[0m[Epoch 50/50] Train Loss: 0.004470, Val Loss: 17.613108, RMSE: 4.196797, MAE: 2.851178, Accuracy: 0.7075, R2: 0.8387, Expl.Var: 0.8393\n",
      "\u001b[31m[2025-03-06 06:15:20,824 INFO]\u001b[0mModel saved to trained-models/shenzhen_GCN_seq12_pre3_gsl1.pt\n",
      "\u001b[31m[2025-03-06 06:15:20,831 INFO]\u001b[0mFinished training!\n",
      "\n",
      "\u001b[31m[2025-03-06 06:15:20,840 INFO]\u001b[0mLoaded config from configs/gcn-sz-gsl-adj-pre_len3.yaml: {'fit': {'trainer': {'max_epochs': 50, 'accelerator': 'cuda', 'devices': 1}, 'data': {'dataset_name': 'shenzhen', 'batch_size': 64, 'seq_len': 12, 'pre_len': 3}, 'model': {'model': {'class_path': 'models.GCN', 'init_args': {'hidden_dim': 100, 'use_gsl': 2}}, 'learning_rate': 0.001, 'weight_decay': 0, 'loss': 'mse'}}}\n",
      "\u001b[31m[2025-03-06 06:15:21,007 INFO]\u001b[0mUsing device: cuda\n",
      "\u001b[31m[2025-03-06 06:15:21,016 INFO]\u001b[0mStarting training for 50 epochs...\n",
      "\u001b[31m[2025-03-06 06:15:21,158 INFO]\u001b[0m[Epoch 1/50] Train Loss: 0.012428, Val Loss: 42.848755, RMSE: 6.545896, MAE: 5.154042, Accuracy: 0.5438, R2: 0.6150, Expl.Var: 0.6272\n"
     ]
    },
    {
     "name": "stdout",
     "output_type": "stream",
     "text": [
      "File data/W_est_shenzhen_pre_len3.npy found. Loading existing adjacency matrix estimated by GSL from training data.\n",
      "GSL computed: GSL+Adj\n"
     ]
    },
    {
     "name": "stderr",
     "output_type": "stream",
     "text": [
      "\u001b[31m[2025-03-06 06:15:22,572 INFO]\u001b[0m[Epoch 11/50] Train Loss: 0.008007, Val Loss: 35.932995, RMSE: 5.994414, MAE: 4.437728, Accuracy: 0.5823, R2: 0.6707, Expl.Var: 0.6708\n",
      "\u001b[31m[2025-03-06 06:15:23,913 INFO]\u001b[0m[Epoch 21/50] Train Loss: 0.007991, Val Loss: 35.926640, RMSE: 5.993884, MAE: 4.443403, Accuracy: 0.5823, R2: 0.6709, Expl.Var: 0.6711\n",
      "\u001b[31m[2025-03-06 06:15:25,228 INFO]\u001b[0m[Epoch 31/50] Train Loss: 0.007992, Val Loss: 35.867153, RMSE: 5.988919, MAE: 4.435803, Accuracy: 0.5827, R2: 0.6713, Expl.Var: 0.6713\n",
      "\u001b[31m[2025-03-06 06:15:26,597 INFO]\u001b[0m[Epoch 41/50] Train Loss: 0.007989, Val Loss: 35.919144, RMSE: 5.993258, MAE: 4.444239, Accuracy: 0.5824, R2: 0.6709, Expl.Var: 0.6710\n",
      "\u001b[31m[2025-03-06 06:15:27,753 INFO]\u001b[0m[Epoch 50/50] Train Loss: 0.007991, Val Loss: 35.896084, RMSE: 5.991334, MAE: 4.438394, Accuracy: 0.5825, R2: 0.6711, Expl.Var: 0.6712\n",
      "\u001b[31m[2025-03-06 06:15:27,753 INFO]\u001b[0mModel saved to trained-models/shenzhen_GCN_seq12_pre3_gsl2.pt\n",
      "\u001b[31m[2025-03-06 06:15:27,753 INFO]\u001b[0mFinished training!\n",
      "\n",
      "\u001b[31m[2025-03-06 06:15:27,777 INFO]\u001b[0mLoaded config from configs/gcn-sz-pre_len4.yaml: {'fit': {'trainer': {'max_epochs': 50, 'accelerator': 'cuda', 'devices': 1}, 'data': {'dataset_name': 'shenzhen', 'batch_size': 64, 'seq_len': 12, 'pre_len': 4}, 'model': {'model': {'class_path': 'models.GCN', 'init_args': {'hidden_dim': 100, 'use_gsl': 0}}, 'learning_rate': 0.001, 'weight_decay': 0, 'loss': 'mse'}}}\n",
      "\u001b[31m[2025-03-06 06:15:27,938 INFO]\u001b[0mUsing device: cuda\n",
      "\u001b[31m[2025-03-06 06:15:27,948 INFO]\u001b[0mStarting training for 50 epochs...\n",
      "\u001b[31m[2025-03-06 06:15:28,082 INFO]\u001b[0m[Epoch 1/50] Train Loss: 0.015280, Val Loss: 46.806389, RMSE: 6.841519, MAE: 5.435162, Accuracy: 0.5232, R2: 0.5752, Expl.Var: 0.5807\n"
     ]
    },
    {
     "name": "stdout",
     "output_type": "stream",
     "text": [
      "<class 'models.gcn.GCN'>\n"
     ]
    },
    {
     "name": "stderr",
     "output_type": "stream",
     "text": [
      "\u001b[31m[2025-03-06 06:15:29,460 INFO]\u001b[0m[Epoch 11/50] Train Loss: 0.008083, Val Loss: 36.134251, RMSE: 6.011177, MAE: 4.454328, Accuracy: 0.5811, R2: 0.6689, Expl.Var: 0.6691\n",
      "\u001b[31m[2025-03-06 06:15:30,790 INFO]\u001b[0m[Epoch 21/50] Train Loss: 0.008050, Val Loss: 36.047745, RMSE: 6.003977, MAE: 4.447429, Accuracy: 0.5816, R2: 0.6697, Expl.Var: 0.6698\n",
      "\u001b[31m[2025-03-06 06:15:32,073 INFO]\u001b[0m[Epoch 31/50] Train Loss: 0.008041, Val Loss: 36.025066, RMSE: 6.002089, MAE: 4.446849, Accuracy: 0.5817, R2: 0.6699, Expl.Var: 0.6699\n",
      "\u001b[31m[2025-03-06 06:15:33,424 INFO]\u001b[0m[Epoch 41/50] Train Loss: 0.008040, Val Loss: 36.042187, RMSE: 6.003515, MAE: 4.452662, Accuracy: 0.5816, R2: 0.6697, Expl.Var: 0.6698\n",
      "\u001b[31m[2025-03-06 06:15:34,619 INFO]\u001b[0m[Epoch 50/50] Train Loss: 0.008042, Val Loss: 36.018623, RMSE: 6.001552, MAE: 4.449536, Accuracy: 0.5818, R2: 0.6699, Expl.Var: 0.6699\n",
      "\u001b[31m[2025-03-06 06:15:34,619 INFO]\u001b[0mModel saved to trained-models/shenzhen_GCN_seq12_pre4_gsl0.pt\n",
      "\u001b[31m[2025-03-06 06:15:34,619 INFO]\u001b[0mFinished training!\n",
      "\n",
      "\u001b[31m[2025-03-06 06:15:34,639 INFO]\u001b[0mLoaded config from configs/gcn-sz-gsl-pre_len4.yaml: {'fit': {'trainer': {'max_epochs': 50, 'accelerator': 'cuda', 'devices': 1}, 'data': {'dataset_name': 'shenzhen', 'batch_size': 64, 'seq_len': 12, 'pre_len': 4}, 'model': {'model': {'class_path': 'models.GCN', 'init_args': {'hidden_dim': 100, 'use_gsl': 1}}, 'learning_rate': 0.001, 'weight_decay': 0, 'loss': 'mse'}}}\n",
      "\u001b[31m[2025-03-06 06:15:34,860 INFO]\u001b[0mUsing device: cuda\n",
      "\u001b[31m[2025-03-06 06:15:34,869 INFO]\u001b[0mStarting training for 50 epochs...\n",
      "\u001b[31m[2025-03-06 06:15:35,012 INFO]\u001b[0m[Epoch 1/50] Train Loss: 0.012757, Val Loss: 31.524641, RMSE: 5.614681, MAE: 4.395837, Accuracy: 0.6087, R2: 0.7159, Expl.Var: 0.7279\n"
     ]
    },
    {
     "name": "stdout",
     "output_type": "stream",
     "text": [
      "File data/W_est_shenzhen_pre_len4.npy found. Loading existing adjacency matrix estimated by GSL from training data.\n",
      "GSL computed: Only GSL\n"
     ]
    },
    {
     "name": "stderr",
     "output_type": "stream",
     "text": [
      "\u001b[31m[2025-03-06 06:15:36,361 INFO]\u001b[0m[Epoch 11/50] Train Loss: 0.004593, Val Loss: 17.826418, RMSE: 4.222134, MAE: 2.780057, Accuracy: 0.7058, R2: 0.8366, Expl.Var: 0.8366\n",
      "\u001b[31m[2025-03-06 06:15:37,794 INFO]\u001b[0m[Epoch 21/50] Train Loss: 0.004558, Val Loss: 17.775820, RMSE: 4.216138, MAE: 2.824172, Accuracy: 0.7062, R2: 0.8371, Expl.Var: 0.8371\n",
      "\u001b[31m[2025-03-06 06:15:39,101 INFO]\u001b[0m[Epoch 31/50] Train Loss: 0.004548, Val Loss: 17.786154, RMSE: 4.217363, MAE: 2.849800, Accuracy: 0.7061, R2: 0.8370, Expl.Var: 0.8371\n",
      "\u001b[31m[2025-03-06 06:15:40,448 INFO]\u001b[0m[Epoch 41/50] Train Loss: 0.004546, Val Loss: 17.793579, RMSE: 4.218244, MAE: 2.858471, Accuracy: 0.7060, R2: 0.8370, Expl.Var: 0.8370\n",
      "\u001b[31m[2025-03-06 06:15:41,650 INFO]\u001b[0m[Epoch 50/50] Train Loss: 0.004548, Val Loss: 17.787725, RMSE: 4.217550, MAE: 2.861510, Accuracy: 0.7061, R2: 0.8370, Expl.Var: 0.8372\n",
      "\u001b[31m[2025-03-06 06:15:41,650 INFO]\u001b[0mModel saved to trained-models/shenzhen_GCN_seq12_pre4_gsl1.pt\n",
      "\u001b[31m[2025-03-06 06:15:41,650 INFO]\u001b[0mFinished training!\n",
      "\n",
      "\u001b[31m[2025-03-06 06:15:41,663 INFO]\u001b[0mLoaded config from configs/gcn-sz-gsl-adj-pre_len4.yaml: {'fit': {'trainer': {'max_epochs': 50, 'accelerator': 'cuda', 'devices': 1}, 'data': {'dataset_name': 'shenzhen', 'batch_size': 64, 'seq_len': 12, 'pre_len': 4}, 'model': {'model': {'class_path': 'models.GCN', 'init_args': {'hidden_dim': 100, 'use_gsl': 2}}, 'learning_rate': 0.001, 'weight_decay': 0, 'loss': 'mse'}}}\n",
      "\u001b[31m[2025-03-06 06:15:41,813 INFO]\u001b[0mUsing device: cuda\n",
      "\u001b[31m[2025-03-06 06:15:41,829 INFO]\u001b[0mStarting training for 50 epochs...\n",
      "\u001b[31m[2025-03-06 06:15:41,967 INFO]\u001b[0m[Epoch 1/50] Train Loss: 0.015280, Val Loss: 46.806389, RMSE: 6.841519, MAE: 5.435162, Accuracy: 0.5232, R2: 0.5752, Expl.Var: 0.5807\n"
     ]
    },
    {
     "name": "stdout",
     "output_type": "stream",
     "text": [
      "File data/W_est_shenzhen_pre_len4.npy found. Loading existing adjacency matrix estimated by GSL from training data.\n",
      "GSL computed: GSL+Adj\n"
     ]
    },
    {
     "name": "stderr",
     "output_type": "stream",
     "text": [
      "\u001b[31m[2025-03-06 06:15:43,266 INFO]\u001b[0m[Epoch 11/50] Train Loss: 0.008083, Val Loss: 36.134251, RMSE: 6.011177, MAE: 4.454328, Accuracy: 0.5811, R2: 0.6689, Expl.Var: 0.6691\n",
      "\u001b[31m[2025-03-06 06:15:44,668 INFO]\u001b[0m[Epoch 21/50] Train Loss: 0.008050, Val Loss: 36.047745, RMSE: 6.003977, MAE: 4.447429, Accuracy: 0.5816, R2: 0.6697, Expl.Var: 0.6698\n",
      "\u001b[31m[2025-03-06 06:15:46,027 INFO]\u001b[0m[Epoch 31/50] Train Loss: 0.008041, Val Loss: 36.025066, RMSE: 6.002089, MAE: 4.446849, Accuracy: 0.5817, R2: 0.6699, Expl.Var: 0.6699\n",
      "\u001b[31m[2025-03-06 06:15:47,302 INFO]\u001b[0m[Epoch 41/50] Train Loss: 0.008040, Val Loss: 36.042187, RMSE: 6.003515, MAE: 4.452662, Accuracy: 0.5816, R2: 0.6697, Expl.Var: 0.6698\n",
      "\u001b[31m[2025-03-06 06:15:48,641 INFO]\u001b[0m[Epoch 50/50] Train Loss: 0.008042, Val Loss: 36.018623, RMSE: 6.001552, MAE: 4.449536, Accuracy: 0.5818, R2: 0.6699, Expl.Var: 0.6699\n",
      "\u001b[31m[2025-03-06 06:15:48,645 INFO]\u001b[0mModel saved to trained-models/shenzhen_GCN_seq12_pre4_gsl2.pt\n",
      "\u001b[31m[2025-03-06 06:15:48,645 INFO]\u001b[0mFinished training!\n",
      "\n"
     ]
    },
    {
     "name": "stdout",
     "output_type": "stream",
     "text": [
      "CPU times: total: 2min 22s\n",
      "Wall time: 2min 27s\n"
     ]
    }
   ],
   "source": [
    "%%time\n",
    "\n",
    "datasets = ['sz', 'los'] #  sz=shenzhen, los=losloop\n",
    "pred_list = [1, 2, 3, 4]\n",
    "\n",
    "for  dataset in datasets:\n",
    "    for pre_len in pred_list:\n",
    "        %run main.py --config configs/gcn-{dataset}-pre_len{pre_len}.yaml\n",
    "        %run main.py --config configs/gcn-{dataset}-gsl-pre_len{pre_len}.yaml\n",
    "        %run main.py --config configs/gcn-{dataset}-gsl-adj-pre_len{pre_len}.yaml"
   ]
  },
  {
   "cell_type": "code",
   "execution_count": null,
   "metadata": {
    "colab": {
     "base_uri": "https://localhost:8080/",
     "height": 17
    },
    "id": "iQTnpyBEojA_",
    "outputId": "aeae8ede-84bd-4bc7-ebcc-ca0fdc8a5f08"
   },
   "outputs": [],
   "source": [
    "import pandas as pd\n",
    "import matplotlib.pyplot as plt\n",
    "import os\n",
    "import shutil\n",
    "\n",
    "model_cls_name = 'GCN'\n",
    "# Define the prediction lengths and measures\n",
    "pred_list = [1, 2, 3, 4]\n",
    "measures = [\"RMSE\", \"MAE\", \"Accuracy\", \"R2\"]\n",
    "datasets = [ 'shenzhen', 'losloop']\n",
    "\n",
    "# Define a color palette for each method\n",
    "colors = plt.cm.tab10.colors  # Using a predefined color palette (10 distinct colors)\n",
    "method_colors = {\n",
    "    \"GCN\": colors[0],           # GCN (Default)\n",
    "    \"GCN (GSL Only)\": colors[1],  # GCN (GSL Only)\n",
    "    \"GCN (GSL + Adj)\": colors[2], # GCN (GSL + Adj)\n",
    "}\n",
    "\n",
    "# Define line styles for each method\n",
    "line_styles = {\n",
    "    \"GCN\": \"--\",                # Dashed for GCN (Default)\n",
    "    \"GCN (GSL Only)\": \"-\",       # Solid for GCN (GSL Only)\n",
    "    \"GCN (GSL + Adj)\": \":\",      # Dotted for GCN (GSL + Adj)\n",
    "}\n",
    "\n",
    "# Define markers for each method\n",
    "markers = {\n",
    "    \"GCN\": \"o\",                 # Circle for GCN (Default)\n",
    "    \"GCN (GSL Only)\": \"s\",       # Square for GCN (GSL Only)\n",
    "    \"GCN (GSL + Adj)\": \"D\",      # Diamond for GCN (GSL + Adj)\n",
    "}\n",
    "\n",
    "# Ensure the results directory exists\n",
    "os.makedirs(\"results\", exist_ok=True)\n",
    "\n",
    "# Loop through each dataset\n",
    "for dataset in datasets:\n",
    "    # Loop through each measure\n",
    "    for measure in measures:\n",
    "        # Loop through each pre_len in pred_list\n",
    "        for pre_len in pred_list:\n",
    "            # Create a new figure for each pre_len and measure\n",
    "            plt.figure(figsize=(12, 8))\n",
    "\n",
    "            # Load the metrics for GCN (Default) for comparison\n",
    "            metrics_file_GCN = f\"results/{model_cls_name}/metrics_{dataset}_seq12_pre{pre_len}_gsl0.csv\"\n",
    "            metrics_df_GCN = pd.read_csv(metrics_file_GCN)\n",
    "\n",
    "            # Loop through each method\n",
    "            for method, color in method_colors.items():\n",
    "                # Map method names to their corresponding file suffixes\n",
    "                if method == \"GCN\":\n",
    "                    file_suffix = \"gsl0\"\n",
    "                elif method == \"GCN (GSL Only)\":\n",
    "                    file_suffix = \"gsl1\"\n",
    "                elif method == \"GCN (GSL + Adj)\":\n",
    "                    file_suffix = \"gsl2\"\n",
    "\n",
    "                # Generate the file path dynamically based on pre_len and method\n",
    "                metrics_file = f\"results/{model_cls_name}/metrics_{dataset}_seq12_pre{pre_len}_{file_suffix}.csv\"\n",
    "\n",
    "                # Load the metrics CSV file\n",
    "                metrics_df = pd.read_csv(metrics_file)\n",
    "\n",
    "                # Plot the current measure for the current method\n",
    "                plt.plot(\n",
    "                    metrics_df[\"Epoch\"],\n",
    "                    metrics_df[measure],\n",
    "                    linestyle=line_styles[method],\n",
    "                    marker=markers[method],\n",
    "                    color=color,\n",
    "                    label=f\"{method}\", # (pre_len={pre_len})\n",
    "                )\n",
    "\n",
    "                # Highlight the first epoch where the current method is better than GCN (Default)\n",
    "                if method != \"GCN\":  # Skip comparison for GCN (Default)\n",
    "                    better_epoch = None\n",
    "                    for epoch in range(len(metrics_df)):\n",
    "                        GCN_value = metrics_df_GCN.loc[epoch, measure]\n",
    "                        current_value = metrics_df.loc[epoch, measure]\n",
    "\n",
    "                        # Check if the current method is better than GCN (Default)\n",
    "                        if measure in [\"RMSE\", \"MAE\"]:\n",
    "                            if current_value < GCN_value:  # Lower is better\n",
    "                                better_epoch = epoch + 1  # Epochs are 1-indexed\n",
    "                                break\n",
    "                        else:\n",
    "                            if current_value > GCN_value:  # Higher is better\n",
    "                                better_epoch = epoch + 1\n",
    "                                break\n",
    "\n",
    "                    # Highlight the first epoch where the current method is better\n",
    "                    if better_epoch is not None:\n",
    "                        plt.axvline(\n",
    "                            x=better_epoch,\n",
    "                            color=color,\n",
    "                            linestyle=\":\",\n",
    "                            alpha=0.5,\n",
    "                            # label=f\"{method} better at epoch {better_epoch}\", # (pre_len={pre_len})\n",
    "                        )\n",
    "\n",
    "            # Add labels, title, legend, and grid\n",
    "            plt.xlabel(\"Epoch\")\n",
    "            plt.ylabel(measure)\n",
    "            plt.title(f\"{measure} over Epochs for {dataset} (pre_len={pre_len})\")\n",
    "            plt.legend()\n",
    "            # plt.grid(True)\n",
    "\n",
    "            # Save the figure as a PNG file\n",
    "            filename = f\"results/{model_cls_name}/{dataset}_{measure}_pre{pre_len}.png\"\n",
    "            plt.savefig(filename, bbox_inches=\"tight\", dpi=300)\n",
    "            plt.close()  # Close the figure to free up memory\n"
   ]
  },
  {
   "cell_type": "code",
   "execution_count": null,
   "metadata": {
    "colab": {
     "base_uri": "https://localhost:8080/"
    },
    "id": "lxMdlaWD4VxS",
    "outputId": "7fcdfc00-28e9-4c3c-9e9b-13c419efbd88"
   },
   "outputs": [
    {
     "name": "stdout",
     "output_type": "stream",
     "text": [
      "LaTeX table for losloop:\n",
      "\\begin{tabular}{clcccc}\n",
      "\\toprule\n",
      " pre\\_len &          Method &            RMSE &             MAE &        Accuracy &              R2 \\\\\n",
      "\\midrule\n",
      "        1 &             GCN &          7.7239 &          5.5553 &          0.8685 &          0.6891 \\\\\n",
      "        1 &  GCN (GSL Only) & \\textbf{7.5270} & \\textbf{5.0648} & \\textbf{0.8719} & \\textbf{0.7051} \\\\\n",
      "        1 & GCN (GSL + Adj) &          7.7841 &          5.6127 &          0.8675 &          0.6842 \\\\\n",
      "        2 &             GCN &          7.9400 &          5.6916 &          0.8648 &          0.6719 \\\\\n",
      "        2 &  GCN (GSL Only) & \\textbf{7.8671} & \\textbf{5.2683} & \\textbf{0.8661} & \\textbf{0.6784} \\\\\n",
      "        2 & GCN (GSL + Adj) &          8.0422 &          5.7849 &          0.8631 &          0.6634 \\\\\n",
      "        3 &             GCN &          8.1021 &          5.7819 &          0.8621 &          0.6588 \\\\\n",
      "        3 &  GCN (GSL Only) & \\textbf{8.0730} & \\textbf{5.4526} & \\textbf{0.8626} & \\textbf{0.6616} \\\\\n",
      "        3 & GCN (GSL + Adj) &          8.2180 &          5.8801 &          0.8601 &          0.6490 \\\\\n",
      "        4 &             GCN & \\textbf{8.2848} & \\textbf{5.8759} & \\textbf{0.8589} & \\textbf{0.6437} \\\\\n",
      "        4 &  GCN (GSL Only) &          9.0667 &          6.0852 &          0.8456 &          0.5754 \\\\\n",
      "        4 & GCN (GSL + Adj) &          8.4955 &          6.0278 &          0.8554 &          0.6254 \\\\\n",
      "\\bottomrule\n",
      "\\end{tabular}\n",
      "\n",
      "LaTeX table for shenzhen:\n",
      "\\begin{tabular}{clcccc}\n",
      "\\toprule\n",
      " pre\\_len &          Method &            RMSE &             MAE &        Accuracy &              R2 \\\\\n",
      "\\midrule\n",
      "        1 &             GCN &          5.9577 &          4.4092 &          0.5849 &          0.6747 \\\\\n",
      "        1 &  GCN (GSL Only) & \\textbf{4.1149} & \\textbf{2.7823} & \\textbf{0.7133} & \\textbf{0.8449} \\\\\n",
      "        1 & GCN (GSL + Adj) &          5.9577 &          4.4092 &          0.5849 &          0.6747 \\\\\n",
      "        2 &             GCN &          5.9834 &          4.4369 &          0.5831 &          0.6721 \\\\\n",
      "        2 &  GCN (GSL Only) & \\textbf{4.1576} & \\textbf{2.8051} & \\textbf{0.7103} & \\textbf{0.8416} \\\\\n",
      "        2 & GCN (GSL + Adj) &          5.9834 &          4.4369 &          0.5831 &          0.6721 \\\\\n",
      "        3 &             GCN &          5.9913 &          4.4384 &          0.5825 &          0.6711 \\\\\n",
      "        3 &  GCN (GSL Only) & \\textbf{4.1968} & \\textbf{2.8512} & \\textbf{0.7075} & \\textbf{0.8387} \\\\\n",
      "        3 & GCN (GSL + Adj) &          5.9913 &          4.4384 &          0.5825 &          0.6711 \\\\\n",
      "        4 &             GCN &          6.0016 &          4.4495 &          0.5818 &          0.6699 \\\\\n",
      "        4 &  GCN (GSL Only) & \\textbf{4.2175} & \\textbf{2.8615} & \\textbf{0.7061} & \\textbf{0.8370} \\\\\n",
      "        4 & GCN (GSL + Adj) &          6.0016 &          4.4495 &          0.5818 &          0.6699 \\\\\n",
      "\\bottomrule\n",
      "\\end{tabular}\n",
      "\n"
     ]
    }
   ],
   "source": [
    "import pandas as pd\n",
    "import os\n",
    "\n",
    "model_cls_name = 'GCN'\n",
    "# Define the prediction lengths and measures\n",
    "pred_list = [1, 2, 3, 4]\n",
    "measures = [\"RMSE\", \"MAE\", \"Accuracy\", \"R2\"]\n",
    "datasets = [ 'shenzhen', 'losloop']\n",
    "\n",
    "# Ensure the results directory exists\n",
    "os.makedirs(\"results\", exist_ok=True)\n",
    "\n",
    "# Loop through each dataset\n",
    "for dataset in datasets:\n",
    "    # Initialize a dictionary to store the results of the last epoch\n",
    "    results = {}\n",
    "\n",
    "    # Loop through each pre_len and measure to collect the last epoch results\n",
    "    for pre_len in pred_list:\n",
    "        # Generate the file paths dynamically based on pre_len and method\n",
    "        metrics_file_gsl0 = f\"results/{model_cls_name}/metrics_{dataset}_seq12_pre{pre_len}_gsl0.csv\"\n",
    "        metrics_file_gsl1 = f\"results/{model_cls_name}/metrics_{dataset}_seq12_pre{pre_len}_gsl1.csv\"\n",
    "        metrics_file_gsl2 = f\"results/{model_cls_name}/metrics_{dataset}_seq12_pre{pre_len}_gsl2.csv\"\n",
    "\n",
    "        # Load the metrics CSV files\n",
    "        metrics_df_gsl0 = pd.read_csv(metrics_file_gsl0)\n",
    "        metrics_df_gsl1 = pd.read_csv(metrics_file_gsl1)\n",
    "        metrics_df_gsl2 = pd.read_csv(metrics_file_gsl2)\n",
    "\n",
    "        # Get the last epoch results for all methods\n",
    "        last_epoch_gsl0 = metrics_df_gsl0.iloc[-1]  # Last row for gsl0 (GCN)\n",
    "        last_epoch_gsl1 = metrics_df_gsl1.iloc[-1]  # Last row for gsl1 (GCN GSL Only)\n",
    "        last_epoch_gsl2 = metrics_df_gsl2.iloc[-1]  # Last row for gsl2 (GCN GSL + Adj)\n",
    "\n",
    "        # Store the results in the dictionary with pre_len as part of the key\n",
    "        results[f\"GCN (pre_len={pre_len})\"] = last_epoch_gsl0[measures]\n",
    "        results[f\"GCN (GSL Only) (pre_len={pre_len})\"] = last_epoch_gsl1[measures]\n",
    "        results[f\"GCN (GSL + Adj) (pre_len={pre_len})\"] = last_epoch_gsl2[measures]\n",
    "\n",
    "    # Convert the results dictionary to a DataFrame\n",
    "    results_df = pd.DataFrame(results).T\n",
    "\n",
    "    # Add a column for pre_len to results_df\n",
    "    results_df[\"pre\\\\_len\"] = [pre_len for pre_len in pred_list for _ in range(3)]\n",
    "\n",
    "    # Function to highlight the winner for each pre_len and measure\n",
    "    def highlight_winner(df):\n",
    "        highlighted_df = df.copy()\n",
    "        for pre_len in pred_list:\n",
    "            for measure in measures:\n",
    "                # Get the values for the three methods for the current pre_len\n",
    "                GCN_value = df.loc[f\"GCN (pre_len={pre_len})\", measure]\n",
    "                gsl_only_value = df.loc[f\"GCN (GSL Only) (pre_len={pre_len})\", measure]\n",
    "                gsl_adj_value = df.loc[f\"GCN (GSL + Adj) (pre_len={pre_len})\", measure]\n",
    "\n",
    "                # Determine the winner based on the measure\n",
    "                if measure in [\"RMSE\", \"MAE\"]:\n",
    "                    winner_value = min(GCN_value, gsl_only_value, gsl_adj_value)  # Lower is better\n",
    "                else:\n",
    "                    winner_value = max(GCN_value, gsl_only_value, gsl_adj_value)  # Higher is better\n",
    "\n",
    "                # Highlight the winner\n",
    "                if GCN_value == winner_value:\n",
    "                    highlighted_df.loc[f\"GCN (pre_len={pre_len})\", measure] = f\"\\\\textbf{{{GCN_value:.4f}}}\"\n",
    "                else:\n",
    "                    highlighted_df.loc[f\"GCN (pre_len={pre_len})\", measure] = f\"{GCN_value:.4f}\"\n",
    "\n",
    "                if gsl_only_value == winner_value:\n",
    "                    highlighted_df.loc[f\"GCN (GSL Only) (pre_len={pre_len})\", measure] = f\"\\\\textbf{{{gsl_only_value:.4f}}}\"\n",
    "                else:\n",
    "                    highlighted_df.loc[f\"GCN (GSL Only) (pre_len={pre_len})\", measure] = f\"{gsl_only_value:.4f}\"\n",
    "\n",
    "                if gsl_adj_value == winner_value:\n",
    "                    highlighted_df.loc[f\"GCN (GSL + Adj) (pre_len={pre_len})\", measure] = f\"\\\\textbf{{{gsl_adj_value:.4f}}}\"\n",
    "                else:\n",
    "                    highlighted_df.loc[f\"GCN (GSL + Adj) (pre_len={pre_len})\", measure] = f\"{gsl_adj_value:.4f}\"\n",
    "        return highlighted_df\n",
    "\n",
    "    # Apply the highlight function to the results DataFrame\n",
    "    highlighted_results = highlight_winner(results_df)\n",
    "\n",
    "    # Remove (pre_len={pre_len}) from method names\n",
    "    highlighted_results.index = highlighted_results.index.str.replace(r\" \\(pre_len=\\d+\\)\", \"\", regex=True)\n",
    "\n",
    "    # Add a column for method names\n",
    "    highlighted_results.insert(0, \"Method\", highlighted_results.index)\n",
    "\n",
    "    # Reorder columns to make pre_len the first column and method-name the second column\n",
    "    highlighted_results = highlighted_results[[\"pre\\\\_len\", \"Method\"] + measures]\n",
    "\n",
    "    # Generate the LaTeX table\n",
    "    latex_table = highlighted_results.to_latex(\n",
    "        escape=False,\n",
    "        column_format=\"cl\" + \"c\" * len(measures),  # Updated column format\n",
    "        multicolumn_format=\"c\",\n",
    "        index=False  # Do not include the index in the LaTeX table\n",
    "    )\n",
    "\n",
    "    # Save the LaTeX table to a file\n",
    "    table_filename = f\"results/{model_cls_name}/{dataset}_results_table.tex\"\n",
    "    with open(table_filename, \"w\") as f:\n",
    "        f.write(latex_table)\n",
    "\n",
    "    # Print the LaTeX table\n",
    "    print(f\"LaTeX table for {dataset}:\")\n",
    "    print(latex_table)"
   ]
  },
  {
   "cell_type": "code",
   "execution_count": null,
   "metadata": {},
   "outputs": [
    {
     "name": "stdout",
     "output_type": "stream",
     "text": [
      "LaTeX table for losloop:\n",
      "\n",
      "\\begin{table}[htbp]\n",
      "\\centering\n",
      "\\caption{Results for losloop: RMSE, MAE, Accuracy, and R2 for pre\\_len=1, 2, 3, 4.}\n",
      "\\begin{tabular}{|c|cccc|}\n",
      "\\hline\n",
      "pre\\_len & RMSE & MAE & Accuracy & R2 \\\\\n",
      "\\hline\n",
      "1 & \\includegraphics[width=0.2\\textwidth]{losloop_RMSE_pre1.png} & \\includegraphics[width=0.2\\textwidth]{losloop_MAE_pre1.png} & \\includegraphics[width=0.2\\textwidth]{losloop_Accuracy_pre1.png} & \\includegraphics[width=0.2\\textwidth]{losloop_R2_pre1.png} \\\\ \\hline\n",
      "2 & \\includegraphics[width=0.2\\textwidth]{losloop_RMSE_pre2.png} & \\includegraphics[width=0.2\\textwidth]{losloop_MAE_pre2.png} & \\includegraphics[width=0.2\\textwidth]{losloop_Accuracy_pre2.png} & \\includegraphics[width=0.2\\textwidth]{losloop_R2_pre2.png} \\\\ \\hline\n",
      "3 & \\includegraphics[width=0.2\\textwidth]{losloop_RMSE_pre3.png} & \\includegraphics[width=0.2\\textwidth]{losloop_MAE_pre3.png} & \\includegraphics[width=0.2\\textwidth]{losloop_Accuracy_pre3.png} & \\includegraphics[width=0.2\\textwidth]{losloop_R2_pre3.png} \\\\ \\hline\n",
      "4 & \\includegraphics[width=0.2\\textwidth]{losloop_RMSE_pre4.png} & \\includegraphics[width=0.2\\textwidth]{losloop_MAE_pre4.png} & \\includegraphics[width=0.2\\textwidth]{losloop_Accuracy_pre4.png} & \\includegraphics[width=0.2\\textwidth]{losloop_R2_pre4.png} \\\\ \\hline\n",
      "\n",
      "\\end{tabular}\n",
      "\\end{table}\n",
      "\n",
      "LaTeX table for shenzhen:\n",
      "\n",
      "\\begin{table}[htbp]\n",
      "\\centering\n",
      "\\caption{Results for shenzhen: RMSE, MAE, Accuracy, and R2 for pre\\_len=1, 2, 3, 4.}\n",
      "\\begin{tabular}{|c|cccc|}\n",
      "\\hline\n",
      "pre\\_len & RMSE & MAE & Accuracy & R2 \\\\\n",
      "\\hline\n",
      "1 & \\includegraphics[width=0.2\\textwidth]{shenzhen_RMSE_pre1.png} & \\includegraphics[width=0.2\\textwidth]{shenzhen_MAE_pre1.png} & \\includegraphics[width=0.2\\textwidth]{shenzhen_Accuracy_pre1.png} & \\includegraphics[width=0.2\\textwidth]{shenzhen_R2_pre1.png} \\\\ \\hline\n",
      "2 & \\includegraphics[width=0.2\\textwidth]{shenzhen_RMSE_pre2.png} & \\includegraphics[width=0.2\\textwidth]{shenzhen_MAE_pre2.png} & \\includegraphics[width=0.2\\textwidth]{shenzhen_Accuracy_pre2.png} & \\includegraphics[width=0.2\\textwidth]{shenzhen_R2_pre2.png} \\\\ \\hline\n",
      "3 & \\includegraphics[width=0.2\\textwidth]{shenzhen_RMSE_pre3.png} & \\includegraphics[width=0.2\\textwidth]{shenzhen_MAE_pre3.png} & \\includegraphics[width=0.2\\textwidth]{shenzhen_Accuracy_pre3.png} & \\includegraphics[width=0.2\\textwidth]{shenzhen_R2_pre3.png} \\\\ \\hline\n",
      "4 & \\includegraphics[width=0.2\\textwidth]{shenzhen_RMSE_pre4.png} & \\includegraphics[width=0.2\\textwidth]{shenzhen_MAE_pre4.png} & \\includegraphics[width=0.2\\textwidth]{shenzhen_Accuracy_pre4.png} & \\includegraphics[width=0.2\\textwidth]{shenzhen_R2_pre4.png} \\\\ \\hline\n",
      "\n",
      "\\end{tabular}\n",
      "\\end{table}\n",
      "\n"
     ]
    }
   ],
   "source": [
    "import os\n",
    "\n",
    "# Define the prediction lengths and measures\n",
    "pred_list = [1, 2, 3, 4]\n",
    "measures = [\"RMSE\", \"MAE\", \"Accuracy\", \"R2\"]\n",
    "datasets = [ 'shenzhen', 'losloop']\n",
    "\n",
    "# Ensure the results directory exists\n",
    "os.makedirs(\"results\", exist_ok=True)\n",
    "\n",
    "# Function to generate LaTeX table for a dataset\n",
    "def generate_latex_table(dataset):\n",
    "    latex_code = f\"\"\"\n",
    "\\\\begin{{table}}[htbp]\n",
    "\\\\centering\n",
    "\\\\caption{{Results for {dataset}: RMSE, MAE, Accuracy, and R2 for pre\\\\_len=1, 2, 3, 4.}}\n",
    "\\\\begin{{tabular}}{{|c|{'c' * len(measures)}|}}\n",
    "\\\\hline\n",
    "pre\\\\_len & {' & '.join(measures)} \\\\\\\\\n",
    "\\\\hline\n",
    "\"\"\"\n",
    "\n",
    "    for pre_len in pred_list:\n",
    "        row = f\"{pre_len} \"\n",
    "        for measure in measures:\n",
    "            image_path = f\"{dataset}_{measure}_pre{pre_len}.png\"\n",
    "            row += f\"& \\\\includegraphics[width=0.2\\\\textwidth]{{{image_path}}} \"\n",
    "        row += \"\\\\\\\\ \\\\hline\"\n",
    "        latex_code += row + \"\\n\"\n",
    "\n",
    "    latex_code += \"\"\"\n",
    "\\\\end{tabular}\n",
    "\\\\end{table}\n",
    "\"\"\"\n",
    "    return latex_code\n",
    "\n",
    "# Generate LaTeX tables for each dataset\n",
    "for dataset in datasets:\n",
    "    latex_table = generate_latex_table(dataset)\n",
    "    print(f\"LaTeX table for {dataset}:\")\n",
    "    print(latex_table)\n",
    "\n",
    "    # Save the LaTeX table to a file\n",
    "    table_filename = f\"results/{model_cls_name}_{dataset}_images_table.tex\"\n",
    "    with open(table_filename, \"w\") as f:\n",
    "        f.write(latex_table)"
   ]
  },
  {
   "cell_type": "code",
   "execution_count": 25,
   "metadata": {
    "colab": {
     "base_uri": "https://localhost:8080/",
     "height": 17
    },
    "id": "Lb1UHp-O4jfu",
    "outputId": "cf05957d-5e2d-4f94-afe4-828ccbc0622b"
   },
   "outputs": [],
   "source": [
    "if 'google.colab' in str(get_ipython()): \n",
    "    from google.colab import files\n",
    "    # Zip the results folder\n",
    "    shutil.make_archive('results', 'zip', 'results')\n",
    "    # Download the zipped file\n",
    "    files.download('results.zip')"
   ]
  }
 ],
 "metadata": {
  "accelerator": "GPU",
  "colab": {
   "gpuType": "T4",
   "provenance": []
  },
  "kernelspec": {
   "display_name": "pth-gpu",
   "language": "python",
   "name": "python3"
  },
  "language_info": {
   "codemirror_mode": {
    "name": "ipython",
    "version": 3
   },
   "file_extension": ".py",
   "mimetype": "text/x-python",
   "name": "python",
   "nbconvert_exporter": "python",
   "pygments_lexer": "ipython3",
   "version": "3.10.16"
  }
 },
 "nbformat": 4,
 "nbformat_minor": 0
}
