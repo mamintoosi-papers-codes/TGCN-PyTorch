{
  "cells": [
    {
      "cell_type": "code",
      "execution_count": null,
      "metadata": {
        "colab": {
          "base_uri": "https://localhost:8080/"
        },
        "id": "pVXq1EguehGR",
        "outputId": "81762400-90a9-4ec7-f331-cc145020f0e1"
      },
      "outputs": [],
      "source": [
        "# !pip install -q torchmetrics"
      ]
    },
    {
      "cell_type": "code",
      "execution_count": null,
      "metadata": {
        "colab": {
          "base_uri": "https://localhost:8080/"
        },
        "id": "ZWIcZmtofQw2",
        "outputId": "719f6626-cb91-4f7c-9a9b-d102aa2482e1"
      },
      "outputs": [],
      "source": [
        "# !git clone https://github.com/mamintoosi-papers-codes/TGCN-PyTorch.git\n",
        "# %cd TGCN-PyTorch"
      ]
    },
    {
      "cell_type": "code",
      "execution_count": null,
      "metadata": {},
      "outputs": [],
      "source": [
        "# %run main.py --config configs/tgcn-los-pre_len1.yaml"
      ]
    },
    {
      "cell_type": "code",
      "execution_count": null,
      "metadata": {},
      "outputs": [],
      "source": [
        "%%time\n",
        "\n",
        "datasets = ['los', 'sz'] # los=losloop, sz=shenzhen\n",
        "pred_list = [1, 2]#, 3, 4]\n",
        "\n",
        "for  dataset in datasets:\n",
        "    for pre_len in pred_list:\n",
        "        %run main.py --config configs/tgcn-{dataset}-pre_len{pre_len}.yaml\n",
        "        %run main.py --config configs/tgcn-{dataset}-gsl-pre_len{pre_len}.yaml\n",
        "        %run main.py --config configs/tgcn-{dataset}-gsl-adj-pre_len{pre_len}.yaml"
      ]
    },
    {
      "cell_type": "code",
      "execution_count": null,
      "metadata": {},
      "outputs": [],
      "source": [
        "import pandas as pd\n",
        "import matplotlib.pyplot as plt\n",
        "\n",
        "# Define the prediction lengths and measures\n",
        "pred_list = [1, 2, 3, 4]\n",
        "measures = [\"RMSE\", \"MAE\", \"Accuracy\", \"R2\"]\n",
        "datasets = ['losloop', 'shenzhen']\n",
        "\n",
        "# Define a color palette for each method\n",
        "colors = plt.cm.tab10.colors  # Using a predefined color palette (10 distinct colors)\n",
        "method_colors = {\n",
        "    \"gsl0\": colors[0],  # T-GCN (Default)\n",
        "    \"gsl1\": colors[1],  # T-GCN (GSL Only)\n",
        "    \"gsl2\": colors[2],  # T-GCN (GSL + Adj)\n",
        "}\n",
        "\n",
        "# Define line styles for each method\n",
        "line_styles = {\n",
        "    \"gsl0\": \"--\",  # Dashed for T-GCN (Default)\n",
        "    \"gsl1\": \"-\",   # Solid for T-GCN (GSL Only)\n",
        "    \"gsl2\": \":\",   # Dotted for T-GCN (GSL + Adj)\n",
        "}\n",
        "\n",
        "# Define markers for each method\n",
        "markers = {\n",
        "    \"gsl0\": \"o\",  # Circle for T-GCN (Default)\n",
        "    \"gsl1\": \"s\",  # Square for T-GCN (GSL Only)\n",
        "    \"gsl2\": \"D\",  # Diamond for T-GCN (GSL + Adj)\n",
        "}\n",
        "\n",
        "# Loop through each dataset\n",
        "for dataset in datasets:\n",
        "    # Loop through each measure\n",
        "    for measure in measures:\n",
        "        # Loop through each pre_len in pred_list\n",
        "        for pre_len in pred_list:\n",
        "            # Create a new figure for each pre_len and measure\n",
        "            plt.figure(figsize=(12, 8))\n",
        "\n",
        "            # Load the metrics for gsl0 (T-GCN Default) for comparison\n",
        "            metrics_file_gsl0 = f\"results/metrics_{dataset}_TGCN_seq12_pre{pre_len}_gsl0.csv\"\n",
        "            metrics_df_gsl0 = pd.read_csv(metrics_file_gsl0)\n",
        "\n",
        "            # Loop through each method (gsl0, gsl1, gsl2)\n",
        "            for method, color in method_colors.items():\n",
        "                # Generate the file path dynamically based on pre_len and method\n",
        "                metrics_file = f\"results/metrics_{dataset}_TGCN_seq12_pre{pre_len}_{method}.csv\"\n",
        "\n",
        "                # Load the metrics CSV file\n",
        "                metrics_df = pd.read_csv(metrics_file)\n",
        "\n",
        "                # Plot the current measure for the current method\n",
        "                plt.plot(\n",
        "                    metrics_df[\"Epoch\"],\n",
        "                    metrics_df[measure],\n",
        "                    linestyle=line_styles[method],\n",
        "                    marker=markers[method],\n",
        "                    color=color,\n",
        "                    label=f\"{method} (pre_len={pre_len})\",\n",
        "                )\n",
        "\n",
        "                # Highlight the first epoch where the current method is better than T-GCN (Default)\n",
        "                if method != \"gsl0\":  # Skip comparison for T-GCN (Default)\n",
        "                    better_epoch = None\n",
        "                    for epoch in range(len(metrics_df)):\n",
        "                        tgcn_value = metrics_df_gsl0.loc[epoch, measure]\n",
        "                        current_value = metrics_df.loc[epoch, measure]\n",
        "\n",
        "                        # Check if the current method is better than T-GCN (Default)\n",
        "                        if measure in [\"RMSE\", \"MAE\"]:\n",
        "                            if current_value < tgcn_value:  # Lower is better\n",
        "                                better_epoch = epoch + 1  # Epochs are 1-indexed\n",
        "                                break\n",
        "                        else:\n",
        "                            if current_value > tgcn_value:  # Higher is better\n",
        "                                better_epoch = epoch + 1\n",
        "                                break\n",
        "\n",
        "                    # Highlight the first epoch where the current method is better\n",
        "                    if better_epoch is not None:\n",
        "                        plt.axvline(\n",
        "                            x=better_epoch,\n",
        "                            color=color,\n",
        "                            linestyle=\":\",\n",
        "                            alpha=0.5,\n",
        "                            label=f\"{method} better at epoch {better_epoch} (pre_len={pre_len})\",\n",
        "                        )\n",
        "\n",
        "            # Add labels, title, legend, and grid\n",
        "            plt.xlabel(\"Epoch\")\n",
        "            plt.ylabel(measure)\n",
        "            plt.title(f\"{measure} over Epochs for {dataset} (pre_len={pre_len})\")\n",
        "            plt.legend()\n",
        "            plt.grid(True)\n",
        "\n",
        "            # Show the plot for the current pre_len and measure\n",
        "            plt.show()"
      ]
    },
    {
      "cell_type": "code",
      "execution_count": null,
      "metadata": {},
      "outputs": [],
      "source": [
        "import pandas as pd\n",
        "import matplotlib.pyplot as plt\n",
        "\n",
        "# Define the prediction lengths and measures\n",
        "pred_list = [1, 2, 3, 4]\n",
        "measures = [\"RMSE\", \"MAE\", \"Accuracy\", \"R2\"]\n",
        "# last_epoch_to_show = 50\n",
        "# Define a color palette for each pre_len\n",
        "colors = plt.cm.tab10.colors  # Using a predefined color palette (10 distinct colors)\n",
        "\n",
        "# Loop through each measure\n",
        "for measure in measures:\n",
        "    # Create a new figure for each measure\n",
        "    plt.figure(figsize=(12, 8))\n",
        "\n",
        "    # Loop through each pre_len in pred_list\n",
        "    for i, pre_len in enumerate(pred_list):\n",
        "        # Generate the file paths dynamically based on pre_len\n",
        "        metrics_file_gsl_false = f\"results/metrics_losloop_TGCN_seq12_pre{pre_len}_gslFalse.csv\"\n",
        "        metrics_file_gsl_true = f\"results/metrics_losloop_TGCN_seq12_pre{pre_len}_gslTrue.csv\"\n",
        "\n",
        "        # Load the metrics CSV files\n",
        "        metrics_df_gsl_false = pd.read_csv(metrics_file_gsl_false)\n",
        "        metrics_df_gsl_true = pd.read_csv(metrics_file_gsl_true)\n",
        "\n",
        "        # Remove the rows after last_epoch_to_show\n",
        "        metrics_df_gsl_true = metrics_df_gsl_true.iloc[:last_epoch_to_show]\n",
        "        metrics_df_gsl_false = metrics_df_gsl_false.iloc[:last_epoch_to_show]\n",
        "\n",
        "        # Use the same base color for both methods, but with different intensity\n",
        "        base_color = colors[i % len(colors)]  # Cycle through the color palette\n",
        "        color_false = base_color  # Full intensity for GSL-false\n",
        "        color_true = (*base_color[:3], 0.6)  # Reduced intensity (alpha = 0.6) for GSL-true\n",
        "\n",
        "        # Plot the current measure for the current pre_len\n",
        "        # Use dashed line for GSL-false (TGCN)\n",
        "        plt.plot(metrics_df_gsl_false[\"Epoch\"], metrics_df_gsl_false[measure], linestyle='--', marker='o', color=color_false, label=f\"TGCN (pre_len={pre_len})\")\n",
        "        # Use solid line for GSL-true (GSL-TGCN)\n",
        "        plt.plot(metrics_df_gsl_true[\"Epoch\"], metrics_df_gsl_true[measure], linestyle='-', marker='s', color=color_true, label=f\"GSL-TGCN (pre_len={pre_len})\")\n",
        "\n",
        "        # Find the first epoch where GSL-true is better than GSL-false\n",
        "        better_epoch = None\n",
        "        for epoch in range(len(metrics_df_gsl_false)):\n",
        "            tgcn_value = metrics_df_gsl_false.loc[epoch, measure]\n",
        "            gsl_tgcn_value = metrics_df_gsl_true.loc[epoch, measure]\n",
        "\n",
        "            # Check if GSL-true is better than TGCN\n",
        "            if measure in [\"RMSE\", \"MAE\"]:\n",
        "                if gsl_tgcn_value < tgcn_value:  # Lower is better\n",
        "                    better_epoch = epoch + 1  # Epochs are 1-indexed\n",
        "                    break\n",
        "            else:\n",
        "                if gsl_tgcn_value > tgcn_value:  # Higher is better\n",
        "                    better_epoch = epoch + 1\n",
        "                    break\n",
        "\n",
        "        # Highlight the first epoch where GSL-true is better\n",
        "        if better_epoch is not None : #and better_epoch <= 30:\n",
        "            plt.axvline(x=better_epoch, color=color_true, linestyle=':', alpha=0.5, label=f\"GSL-TGCN better at epoch {better_epoch} (pre_len={pre_len})\")\n",
        "\n",
        "    # Add labels, title, legend, and grid\n",
        "    plt.xlabel(\"Epoch\")\n",
        "    plt.ylabel(measure)\n",
        "    plt.title(f\"{measure} over Epochs for TGCN and GSL-TGCN (losloop)\")\n",
        "    plt.legend()\n",
        "    # plt.grid(True)\n",
        "\n",
        "    # Limit the x-axis to the first 30 epochs\n",
        "    # plt.xlim(0, 30)\n",
        "\n",
        "    # Show the plot for the current measure\n",
        "    plt.show()"
      ]
    },
    {
      "cell_type": "code",
      "execution_count": null,
      "metadata": {},
      "outputs": [],
      "source": [
        "import pandas as pd\n",
        "\n",
        "# Define the prediction lengths and measures\n",
        "pred_list = [1, 2, 3, 4]\n",
        "measures = [\"RMSE\", \"MAE\", \"Accuracy\", \"R2\"]\n",
        "\n",
        "# Initialize a dictionary to store the results of the last epoch\n",
        "results = {}\n",
        "\n",
        "# Loop through each pre_len and measure to collect the last epoch results\n",
        "for pre_len in pred_list:\n",
        "    # Generate the file paths dynamically based on pre_len\n",
        "    metrics_file_gsl_false = f\"results/metrics_losloop_TGCN_seq12_pre{pre_len}_gslFalse.csv\"\n",
        "    metrics_file_gsl_true = f\"results/metrics_losloop_TGCN_seq12_pre{pre_len}_gslTrue.csv\"\n",
        "\n",
        "    # Load the metrics CSV files\n",
        "    metrics_df_gsl_false = pd.read_csv(metrics_file_gsl_false)\n",
        "    metrics_df_gsl_true = pd.read_csv(metrics_file_gsl_true)\n",
        "\n",
        "    # Remove the rows after last_epoch_to_show\n",
        "    metrics_df_gsl_true = metrics_df_gsl_true.iloc[:last_epoch_to_show]\n",
        "    metrics_df_gsl_false = metrics_df_gsl_false.iloc[:last_epoch_to_show]\n",
        "    \n",
        "    # Get the last epoch results for both methods\n",
        "    last_epoch_false = metrics_df_gsl_false.iloc[-1]  # Last row for GSL-false\n",
        "    last_epoch_true = metrics_df_gsl_true.iloc[-1]    # Last row for GSL-true\n",
        "\n",
        "    # Store the results in the dictionary\n",
        "    results[f\"TGCN (pre_len={pre_len})\"] = last_epoch_false[measures]\n",
        "    results[f\"GSL-TGCN (pre_len={pre_len})\"] = last_epoch_true[measures]\n",
        "\n",
        "# Convert the results dictionary to a DataFrame\n",
        "results_df = pd.DataFrame(results).T\n",
        "\n",
        "# Function to highlight the winner for each pre_len and measure\n",
        "def highlight_winner(df):\n",
        "    highlighted_df = df.copy()\n",
        "    for pre_len in pred_list:\n",
        "        for measure in measures:\n",
        "            # Get the values for the two methods for the current pre_len\n",
        "            tgcn_value = df.loc[f\"TGCN (pre_len={pre_len})\", measure]\n",
        "            gsl_tgcn_value = df.loc[f\"GSL-TGCN (pre_len={pre_len})\", measure]\n",
        "\n",
        "            # Determine the winner based on the measure\n",
        "            if measure in [\"RMSE\", \"MAE\"]:\n",
        "                winner_value = min(tgcn_value, gsl_tgcn_value)  # Lower is better\n",
        "            else:\n",
        "                winner_value = max(tgcn_value, gsl_tgcn_value)  # Higher is better\n",
        "\n",
        "            # Highlight the winner\n",
        "            if tgcn_value == winner_value:\n",
        "                highlighted_df.loc[f\"TGCN (pre_len={pre_len})\", measure] = f\"\\\\textbf{{{tgcn_value:.4f}}}\"\n",
        "            else:\n",
        "                highlighted_df.loc[f\"TGCN (pre_len={pre_len})\", measure] = f\"{tgcn_value:.4f}\"\n",
        "\n",
        "            if gsl_tgcn_value == winner_value:\n",
        "                highlighted_df.loc[f\"GSL-TGCN (pre_len={pre_len})\", measure] = f\"\\\\textbf{{{gsl_tgcn_value:.4f}}}\"\n",
        "            else:\n",
        "                highlighted_df.loc[f\"GSL-TGCN (pre_len={pre_len})\", measure] = f\"{gsl_tgcn_value:.4f}\"\n",
        "    return highlighted_df\n",
        "\n",
        "# Apply the highlight function to the results DataFrame\n",
        "highlighted_results = highlight_winner(results_df)\n",
        "\n",
        "# Generate the LaTeX table\n",
        "latex_table = highlighted_results.to_latex(escape=False, column_format=\"l\" + \"c\" * len(measures))\n",
        "\n",
        "# Print the LaTeX table\n",
        "print(latex_table)"
      ]
    },
    {
      "cell_type": "code",
      "execution_count": null,
      "metadata": {},
      "outputs": [],
      "source": [
        "# metrics_df_gsl_false['RMSE'], metrics_df_gsl_true['RMSE']"
      ]
    },
    {
      "cell_type": "code",
      "execution_count": null,
      "metadata": {},
      "outputs": [],
      "source": [
        "import pandas as pd\n",
        "\n",
        "# Define the prediction lengths and measures\n",
        "pred_list = [1, 2, 3, 4]\n",
        "measures = [\"RMSE\", \"MAE\", \"Accuracy\", \"R2\"]\n",
        "\n",
        "# Initialize a dictionary to store the first epoch where GSL-true is better\n",
        "first_epoch_better = {f\"pre_len={pre_len}\": {measure: None for measure in measures} for pre_len in pred_list}\n",
        "\n",
        "# Loop through each pre_len and measure to find the first epoch where GSL-true is better\n",
        "for pre_len in pred_list:\n",
        "    # Generate the file paths dynamically based on pre_len\n",
        "    metrics_file_gsl_false = f\"results/metrics_losloop_TGCN_seq12_pre{pre_len}_gslFalse.csv\"\n",
        "    metrics_file_gsl_true = f\"results/metrics_losloop_TGCN_seq12_pre{pre_len}_gslTrue.csv\"\n",
        "\n",
        "    # Load the metrics CSV files\n",
        "    metrics_df_gsl_false = pd.read_csv(metrics_file_gsl_false)\n",
        "    metrics_df_gsl_true = pd.read_csv(metrics_file_gsl_true)\n",
        "\n",
        "    # Remove the rows after last_epoch_to_show\n",
        "    metrics_df_gsl_true = metrics_df_gsl_true.iloc[:last_epoch_to_show]\n",
        "    metrics_df_gsl_false = metrics_df_gsl_false.iloc[:last_epoch_to_show]\n",
        "\n",
        "    # Loop through each measure\n",
        "    for measure in measures:\n",
        "        # Initialize a flag to track if GSL-true has become better\n",
        "        better_epoch = None\n",
        "\n",
        "        # Loop through each epoch\n",
        "        for epoch in range(len(metrics_df_gsl_false)):\n",
        "            tgcn_value = metrics_df_gsl_false.loc[epoch, measure]\n",
        "            gsl_tgcn_value = metrics_df_gsl_true.loc[epoch, measure]\n",
        "\n",
        "            # Check if GSL-true is better than TGCN\n",
        "            if measure in [\"RMSE\", \"MAE\"]:\n",
        "                if gsl_tgcn_value < tgcn_value:  # Lower is better\n",
        "                    better_epoch = epoch + 1  # Epochs are 1-indexed\n",
        "                    break\n",
        "            else:\n",
        "                if gsl_tgcn_value > tgcn_value:  # Higher is better\n",
        "                    better_epoch = epoch + 1\n",
        "                    break\n",
        "\n",
        "        # Store the result\n",
        "        first_epoch_better[f\"pre_len={pre_len}\"][measure] = better_epoch if better_epoch is not None else \"-\"\n",
        "\n",
        "# Convert the results dictionary to a DataFrame\n",
        "results_df = pd.DataFrame(first_epoch_better).T\n",
        "\n",
        "# Generate the LaTeX table\n",
        "latex_table = results_df.to_latex(escape=False, column_format=\"l\" + \"c\" * len(measures))\n",
        "\n",
        "# Print the LaTeX table\n",
        "print(latex_table)"
      ]
    },
    {
      "cell_type": "code",
      "execution_count": null,
      "metadata": {},
      "outputs": [],
      "source": [
        "%%time\n",
        "pred_list = [1, 2, 3, 4]\n",
        "for pre_len in pred_list:\n",
        "    %run main.py --config configs/tgcn-sz-pre_len{pre_len}.yaml --log_path train-tgcn-sz-pre_len{pre_len}.log\n",
        "    %run main.py --config configs/tgcn-sz-gsl-pre_len{pre_len}.yaml --log_path train-tgcn-sz-gsl-pre_len{pre_len}.log"
      ]
    },
    {
      "cell_type": "code",
      "execution_count": null,
      "metadata": {},
      "outputs": [],
      "source": [
        "import pandas as pd\n",
        "import matplotlib.pyplot as plt\n",
        "\n",
        "# Define the prediction lengths and measures\n",
        "pred_list = [1, 2, 3, 4]\n",
        "measures = [\"RMSE\", \"MAE\", \"Accuracy\", \"R2\"]\n",
        "\n",
        "# Define a color palette for each pre_len\n",
        "colors = plt.cm.tab10.colors  # Using a predefined color palette (10 distinct colors)\n",
        "\n",
        "# Loop through each measure\n",
        "for measure in measures:\n",
        "    # Create a new figure for each measure\n",
        "    plt.figure(figsize=(12, 8))\n",
        "\n",
        "    # Loop through each pre_len in pred_list\n",
        "    for i, pre_len in enumerate(pred_list):\n",
        "        # Generate the file paths dynamically based on pre_len\n",
        "        metrics_file_gsl_false = f\"results/metrics_shenzhen_TGCN_seq12_pre{pre_len}_gslFalse.csv\"\n",
        "        metrics_file_gsl_true = f\"results/metrics_shenzhen_TGCN_seq12_pre{pre_len}_gslTrue.csv\"\n",
        "\n",
        "        # Load the metrics CSV files\n",
        "        metrics_df_gsl_false = pd.read_csv(metrics_file_gsl_false)\n",
        "        metrics_df_gsl_true = pd.read_csv(metrics_file_gsl_true)\n",
        "\n",
        "        # Remove the rows after last_epoch_to_show\n",
        "        metrics_df_gsl_true = metrics_df_gsl_true.iloc[:last_epoch_to_show]\n",
        "        metrics_df_gsl_false = metrics_df_gsl_false.iloc[:last_epoch_to_show]\n",
        "\n",
        "        # Use the same base color for both methods, but with different intensity\n",
        "        base_color = colors[i % len(colors)]  # Cycle through the color palette\n",
        "        color_false = base_color  # Full intensity for GSL-false\n",
        "        color_true = (*base_color[:3], 0.6)  # Reduced intensity (alpha = 0.6) for GSL-true\n",
        "\n",
        "        # Plot the current measure for the current pre_len\n",
        "        # Use dashed line for GSL-false (TGCN)\n",
        "        plt.plot(metrics_df_gsl_false[\"Epoch\"], metrics_df_gsl_false[measure], linestyle='--', marker='o', color=color_false, label=f\"TGCN (pre_len={pre_len})\")\n",
        "        # Use solid line for GSL-true (GSL-TGCN)\n",
        "        plt.plot(metrics_df_gsl_true[\"Epoch\"], metrics_df_gsl_true[measure], linestyle='-', marker='s', color=color_true, label=f\"GSL-TGCN (pre_len={pre_len})\")\n",
        "\n",
        "        # Find the first epoch where GSL-true is better than GSL-false\n",
        "        better_epoch = None\n",
        "        for epoch in range(len(metrics_df_gsl_false)):\n",
        "            tgcn_value = metrics_df_gsl_false.loc[epoch, measure]\n",
        "            gsl_tgcn_value = metrics_df_gsl_true.loc[epoch, measure]\n",
        "\n",
        "            # Check if GSL-true is better than TGCN\n",
        "            if measure in [\"RMSE\", \"MAE\"]:\n",
        "                if gsl_tgcn_value < tgcn_value:  # Lower is better\n",
        "                    better_epoch = epoch + 1  # Epochs are 1-indexed\n",
        "                    break\n",
        "            else:\n",
        "                if gsl_tgcn_value > tgcn_value:  # Higher is better\n",
        "                    better_epoch = epoch + 1\n",
        "                    break\n",
        "\n",
        "        # Highlight the first epoch where GSL-true is better\n",
        "        if better_epoch is not None: # and better_epoch <= 30:\n",
        "            plt.axvline(x=better_epoch, color=color_true, linestyle=':', alpha=0.5, label=f\"GSL-TGCN better at epoch {better_epoch} (pre_len={pre_len})\")\n",
        "\n",
        "    # Add labels, title, legend, and grid\n",
        "    plt.xlabel(\"Epoch\")\n",
        "    plt.ylabel(measure)\n",
        "    plt.title(f\"{measure} over Epochs for TGCN and GSL-TGCN (shenzhen)\")\n",
        "    plt.legend()\n",
        "    # plt.grid(True)\n",
        "\n",
        "    # Limit the x-axis to the first 30 epochs\n",
        "    # plt.xlim(0, 30)\n",
        "\n",
        "    # Show the plot for the current measure\n",
        "    plt.show()"
      ]
    },
    {
      "cell_type": "code",
      "execution_count": null,
      "metadata": {},
      "outputs": [],
      "source": [
        "import pandas as pd\n",
        "\n",
        "# Define the prediction lengths and measures\n",
        "pred_list = [1, 2, 3, 4]\n",
        "measures = [\"RMSE\", \"MAE\", \"Accuracy\", \"R2\"]\n",
        "\n",
        "# Initialize a dictionary to store the results of the last epoch\n",
        "results = {}\n",
        "\n",
        "# Loop through each pre_len and measure to collect the last epoch results\n",
        "for pre_len in pred_list:\n",
        "    # Generate the file paths dynamically based on pre_len\n",
        "    metrics_file_gsl_false = f\"results/metrics_shenzhen_TGCN_seq12_pre{pre_len}_gslFalse.csv\"\n",
        "    metrics_file_gsl_true = f\"results/metrics_shenzhen_TGCN_seq12_pre{pre_len}_gslTrue.csv\"\n",
        "\n",
        "    # Load the metrics CSV files\n",
        "    metrics_df_gsl_false = pd.read_csv(metrics_file_gsl_false)\n",
        "    metrics_df_gsl_true = pd.read_csv(metrics_file_gsl_true)\n",
        "\n",
        "    # Remove the rows after last_epoch_to_show\n",
        "    metrics_df_gsl_true = metrics_df_gsl_true.iloc[:last_epoch_to_show]\n",
        "    metrics_df_gsl_false = metrics_df_gsl_false.iloc[:last_epoch_to_show]\n",
        "    \n",
        "    # Get the last epoch results for both methods\n",
        "    last_epoch_false = metrics_df_gsl_false.iloc[-1]  # Last row for GSL-false\n",
        "    last_epoch_true = metrics_df_gsl_true.iloc[-1]    # Last row for GSL-true\n",
        "\n",
        "    # Store the results in the dictionary\n",
        "    results[f\"TGCN (pre_len={pre_len})\"] = last_epoch_false[measures]\n",
        "    results[f\"GSL-TGCN (pre_len={pre_len})\"] = last_epoch_true[measures]\n",
        "\n",
        "# Convert the results dictionary to a DataFrame\n",
        "results_df = pd.DataFrame(results).T\n",
        "\n",
        "# Function to highlight the winner for each pre_len and measure\n",
        "def highlight_winner(df):\n",
        "    highlighted_df = df.copy()\n",
        "    for pre_len in pred_list:\n",
        "        for measure in measures:\n",
        "            # Get the values for the two methods for the current pre_len\n",
        "            tgcn_value = df.loc[f\"TGCN (pre_len={pre_len})\", measure]\n",
        "            gsl_tgcn_value = df.loc[f\"GSL-TGCN (pre_len={pre_len})\", measure]\n",
        "\n",
        "            # Determine the winner based on the measure\n",
        "            if measure in [\"RMSE\", \"MAE\"]:\n",
        "                winner_value = min(tgcn_value, gsl_tgcn_value)  # Lower is better\n",
        "            else:\n",
        "                winner_value = max(tgcn_value, gsl_tgcn_value)  # Higher is better\n",
        "\n",
        "            # Highlight the winner\n",
        "            if tgcn_value == winner_value:\n",
        "                highlighted_df.loc[f\"TGCN (pre_len={pre_len})\", measure] = f\"\\\\textbf{{{tgcn_value:.4f}}}\"\n",
        "            else:\n",
        "                highlighted_df.loc[f\"TGCN (pre_len={pre_len})\", measure] = f\"{tgcn_value:.4f}\"\n",
        "\n",
        "            if gsl_tgcn_value == winner_value:\n",
        "                highlighted_df.loc[f\"GSL-TGCN (pre_len={pre_len})\", measure] = f\"\\\\textbf{{{gsl_tgcn_value:.4f}}}\"\n",
        "            else:\n",
        "                highlighted_df.loc[f\"GSL-TGCN (pre_len={pre_len})\", measure] = f\"{gsl_tgcn_value:.4f}\"\n",
        "    return highlighted_df\n",
        "\n",
        "# Apply the highlight function to the results DataFrame\n",
        "highlighted_results = highlight_winner(results_df)\n",
        "\n",
        "# Generate the LaTeX table\n",
        "latex_table = highlighted_results.to_latex(escape=False, column_format=\"l\" + \"c\" * len(measures))\n",
        "\n",
        "# Print the LaTeX table\n",
        "print(latex_table)"
      ]
    },
    {
      "cell_type": "code",
      "execution_count": null,
      "metadata": {},
      "outputs": [],
      "source": [
        "import pandas as pd\n",
        "import matplotlib.pyplot as plt\n",
        "\n",
        "# Define the prediction lengths to loop through\n",
        "pred_list = [1, 2, 3, 4]\n",
        "\n",
        "# Create a figure to hold all the plots\n",
        "plt.figure(figsize=(12, 8))\n",
        "\n",
        "# Loop through each pre_len in pred_list\n",
        "for pre_len in pred_list:\n",
        "    # Generate the file paths dynamically based on pre_len\n",
        "    metrics_file_gsl_false = f\"results/metrics_shenzhen_TGCN_seq12_pre{pre_len}_gslFalse.csv\"\n",
        "    metrics_file_gsl_true = f\"results/metrics_shenzhen_TGCN_seq12_pre{pre_len}_gslTrue.csv\"\n",
        "\n",
        "    # Load the metrics CSV files\n",
        "    metrics_df_gsl_false = pd.read_csv(metrics_file_gsl_false)\n",
        "    metrics_df_gsl_true = pd.read_csv(metrics_file_gsl_true)\n",
        "\n",
        "    # Plot RMSE values for the current pre_len\n",
        "    plt.plot(metrics_df_gsl_false[\"Epoch\"], metrics_df_gsl_false[\"RMSE\"], marker='o', label=f\"TGCN (pre_len={pre_len})\")\n",
        "    plt.plot(metrics_df_gsl_true[\"Epoch\"], metrics_df_gsl_true[\"RMSE\"], marker='o', label=f\"GSL-TGCN (pre_len={pre_len})\")\n",
        "\n",
        "# Add labels, title, legend, and grid\n",
        "plt.xlabel(\"Epoch\")\n",
        "plt.ylabel(\"RMSE\")\n",
        "plt.title(\"RMSE over Epochs for TGCN and GSL-TGCN (shenzhen)\")\n",
        "plt.legend()\n",
        "plt.grid(True)\n",
        "\n",
        "# Show the plot\n",
        "plt.show()"
      ]
    },
    {
      "cell_type": "code",
      "execution_count": null,
      "metadata": {
        "colab": {
          "base_uri": "https://localhost:8080/"
        },
        "id": "kShbUpCKehGT",
        "outputId": "f4ccd3c1-8796-459f-cb10-dcbdca9dcc9a"
      },
      "outputs": [],
      "source": [
        "%%time\n",
        "%run main.py --config configs/gcn-los.yaml --log_path train-gcn-los.log"
      ]
    },
    {
      "cell_type": "markdown",
      "metadata": {
        "id": "qatxL3fYYPKK"
      },
      "source": [
        "Losloop"
      ]
    },
    {
      "cell_type": "code",
      "execution_count": null,
      "metadata": {
        "colab": {
          "base_uri": "https://localhost:8080/"
        },
        "id": "LXlRhQmOUYth",
        "outputId": "44da3887-46c1-4ebd-9fb9-b05dbe782cdd"
      },
      "outputs": [],
      "source": [
        "%%time\n",
        "%run main.py --config configs/gcn-los-gsl.yaml --log_path train-gcn-los-gsl.log"
      ]
    },
    {
      "cell_type": "code",
      "execution_count": null,
      "metadata": {
        "colab": {
          "base_uri": "https://localhost:8080/",
          "height": 564
        },
        "id": "kGJJJXN8UoNb",
        "outputId": "97f0616a-c030-464e-d3f7-04a586f9a024"
      },
      "outputs": [],
      "source": [
        "import pandas as pd\n",
        "import matplotlib.pyplot as plt\n",
        "\n",
        "# Load the metrics CSV files\n",
        "metrics_file_gsl_false = \"results/metrics_losloop_GCN_seq12_pre1_gslFalse.csv\"\n",
        "metrics_file_gsl_true = \"results/metrics_losloop_GCN_seq12_pre1_gslTrue.csv\"\n",
        "\n",
        "metrics_df_gsl_false = pd.read_csv(metrics_file_gsl_false)\n",
        "metrics_df_gsl_true = pd.read_csv(metrics_file_gsl_true)\n",
        "\n",
        "# Plot RMSE values\n",
        "plt.figure(figsize=(10, 6))\n",
        "plt.plot(metrics_df_gsl_false[\"Epoch\"], metrics_df_gsl_false[\"RMSE\"], marker='o', label=\"GCN\")\n",
        "plt.plot(metrics_df_gsl_true[\"Epoch\"], metrics_df_gsl_true[\"RMSE\"], marker='o', label=\"GSL-GCN\")\n",
        "plt.xlabel(\"Epoch\")\n",
        "plt.ylabel(\"RMSE\")\n",
        "plt.title(\"RMSE over Epochs for GCN and GSL-GCN\")\n",
        "plt.legend()\n",
        "plt.grid(True)\n",
        "plt.show()"
      ]
    },
    {
      "cell_type": "code",
      "execution_count": null,
      "metadata": {},
      "outputs": [],
      "source": [
        "%%time\n",
        "%run main.py --config configs/gcn-sz.yaml --log_path train-gcn-sz.log"
      ]
    },
    {
      "cell_type": "markdown",
      "metadata": {
        "id": "f72mwi6sYRya"
      },
      "source": []
    },
    {
      "cell_type": "code",
      "execution_count": null,
      "metadata": {
        "colab": {
          "base_uri": "https://localhost:8080/"
        },
        "id": "B_1BBGXvYS7i",
        "outputId": "22f1fe7f-580e-402f-de28-2efbce11d3af"
      },
      "outputs": [],
      "source": [
        "%%time\n",
        "%run main.py --config configs/gcn-sz-gsl.yaml --log_path train-gcn-sz-gsl.log"
      ]
    },
    {
      "cell_type": "code",
      "execution_count": null,
      "metadata": {
        "colab": {
          "base_uri": "https://localhost:8080/",
          "height": 564
        },
        "id": "7tYl8n8-YS7k",
        "outputId": "973d195e-ad44-4f36-f23a-17d56fa67584"
      },
      "outputs": [],
      "source": [
        "import pandas as pd\n",
        "import matplotlib.pyplot as plt\n",
        "\n",
        "# Load the metrics CSV files\n",
        "metrics_file_gsl_false = \"results/metrics_shenzhen_GCN_seq12_pre1_gslFalse.csv\"\n",
        "metrics_file_gsl_true = \"results/metrics_shenzhen_GCN_seq12_pre1_gslTrue.csv\"\n",
        "\n",
        "metrics_df_gsl_false = pd.read_csv(metrics_file_gsl_false)\n",
        "metrics_df_gsl_true = pd.read_csv(metrics_file_gsl_true)\n",
        "\n",
        "# Plot RMSE values\n",
        "plt.figure(figsize=(10, 6))\n",
        "plt.plot(metrics_df_gsl_false[\"Epoch\"], metrics_df_gsl_false[\"RMSE\"], marker='o', label=\"GCN\")\n",
        "plt.plot(metrics_df_gsl_true[\"Epoch\"], metrics_df_gsl_true[\"RMSE\"], marker='o', label=\"GSL-GCN\")\n",
        "plt.xlabel(\"Epoch\")\n",
        "plt.ylabel(\"RMSE\")\n",
        "plt.title(\"RMSE over Epochs for GCN and GSL-GCN\")\n",
        "plt.legend()\n",
        "plt.grid(True)\n",
        "plt.show()"
      ]
    },
    {
      "cell_type": "markdown",
      "metadata": {
        "id": "t2sD1x1mXNal"
      },
      "source": [
        "SZ"
      ]
    },
    {
      "cell_type": "code",
      "execution_count": null,
      "metadata": {
        "colab": {
          "base_uri": "https://localhost:8080/",
          "height": 273
        },
        "id": "ORTw93ssehGT",
        "outputId": "517cb28c-a673-4f00-ac49-6a9ddf9b6821"
      },
      "outputs": [],
      "source": [
        "%%time\n",
        "%run main.py --config configs/tgcn-sz.yaml --log_path train-tgcn-sz.log"
      ]
    },
    {
      "cell_type": "markdown",
      "metadata": {
        "id": "W3YTXpjN_rFp"
      },
      "source": [
        "SZ-GSL"
      ]
    },
    {
      "cell_type": "code",
      "execution_count": null,
      "metadata": {
        "colab": {
          "base_uri": "https://localhost:8080/"
        },
        "id": "ERpUYKZIep5O",
        "outputId": "adb26d7d-75cb-4deb-af78-8854fe634e98"
      },
      "outputs": [],
      "source": [
        "%%time\n",
        "%run main.py --config configs/tgcn-sz-gsl.yaml --log_path train-tgcn-sz-gsl.log"
      ]
    },
    {
      "cell_type": "code",
      "execution_count": null,
      "metadata": {
        "colab": {
          "base_uri": "https://localhost:8080/",
          "height": 564
        },
        "id": "MkAK6aLdARhF",
        "outputId": "58902e20-a80a-4e30-8863-ea87ef648590"
      },
      "outputs": [],
      "source": [
        "import pandas as pd\n",
        "import matplotlib.pyplot as plt\n",
        "\n",
        "# Load the metrics CSV files\n",
        "metrics_file_gsl_false = \"results/metrics_shenzhen_TGCN_seq12_pre1_gslFalse.csv\"\n",
        "metrics_file_gsl_true = \"results/metrics_shenzhen_TGCN_seq12_pre1_gslTrue.csv\"\n",
        "\n",
        "metrics_df_gsl_false = pd.read_csv(metrics_file_gsl_false)\n",
        "metrics_df_gsl_true = pd.read_csv(metrics_file_gsl_true)\n",
        "\n",
        "# Plot RMSE values\n",
        "plt.figure(figsize=(10, 6))\n",
        "plt.plot(metrics_df_gsl_false[\"Epoch\"], metrics_df_gsl_false[\"RMSE\"], marker='o', label=\"TGCN\")\n",
        "plt.plot(metrics_df_gsl_true[\"Epoch\"], metrics_df_gsl_true[\"RMSE\"], marker='o', label=\"GSL-TGCN\")\n",
        "plt.xlabel(\"Epoch\")\n",
        "plt.ylabel(\"RMSE\")\n",
        "plt.title(\"RMSE over Epochs for TGCN and GSL-TGCN (shenzhen)\")\n",
        "plt.legend()\n",
        "plt.grid(True)\n",
        "plt.show()"
      ]
    },
    {
      "cell_type": "markdown",
      "metadata": {
        "id": "ZMqO0uf5XkJv"
      },
      "source": [
        "Los"
      ]
    },
    {
      "cell_type": "code",
      "execution_count": null,
      "metadata": {
        "colab": {
          "base_uri": "https://localhost:8080/",
          "height": 273
        },
        "id": "yCeMMHNHXmmC",
        "outputId": "6a2ab5b0-2f84-4be7-9e98-e80386bdc7b7"
      },
      "outputs": [],
      "source": [
        "%%time\n",
        "%run main.py --config configs/tgcn-los.yaml --log_path train-tgcn-los.log"
      ]
    },
    {
      "cell_type": "markdown",
      "metadata": {
        "id": "3klnATo2XXf3"
      },
      "source": [
        "Los-GSL"
      ]
    },
    {
      "cell_type": "code",
      "execution_count": null,
      "metadata": {
        "colab": {
          "base_uri": "https://localhost:8080/"
        },
        "id": "a-3-o9fkXY0Y",
        "outputId": "9ed6d04d-ce8e-44c1-d7a9-a4468e6fa908"
      },
      "outputs": [],
      "source": [
        "%%time\n",
        "%run main.py --config configs/tgcn-los-gsl.yaml --log_path train-tgcn-los-gsl.log"
      ]
    },
    {
      "cell_type": "code",
      "execution_count": null,
      "metadata": {
        "colab": {
          "base_uri": "https://localhost:8080/",
          "height": 564
        },
        "id": "2O1EgooX7MTC",
        "outputId": "057b7ba4-02b9-4bfe-db2d-a64241aa2146"
      },
      "outputs": [],
      "source": [
        "import pandas as pd\n",
        "import matplotlib.pyplot as plt\n",
        "\n",
        "# Load the metrics CSV files\n",
        "metrics_file_gsl_false = \"results/metrics_losloop_TGCN_seq12_pre1_gslFalse.csv\"\n",
        "metrics_file_gsl_true = \"results/metrics_losloop_TGCN_seq12_pre1_gslTrue.csv\"\n",
        "\n",
        "metrics_df_gsl_false = pd.read_csv(metrics_file_gsl_false)\n",
        "metrics_df_gsl_true = pd.read_csv(metrics_file_gsl_true)\n",
        "\n",
        "# Plot RMSE values\n",
        "plt.figure(figsize=(10, 6))\n",
        "plt.plot(metrics_df_gsl_false[\"Epoch\"], metrics_df_gsl_false[\"RMSE\"], marker='o', label=\"TGCN\")\n",
        "plt.plot(metrics_df_gsl_true[\"Epoch\"], metrics_df_gsl_true[\"RMSE\"], marker='o', label=\"GSL-TGCN\")\n",
        "plt.xlabel(\"Epoch\")\n",
        "plt.ylabel(\"RMSE\")\n",
        "plt.title(\"RMSE over Epochs for TGCN and GSL-TGCN (losloop)\")\n",
        "plt.legend()\n",
        "plt.grid(True)\n",
        "plt.show()"
      ]
    },
    {
      "cell_type": "code",
      "execution_count": null,
      "metadata": {
        "id": "XL47a5XsXfLQ"
      },
      "outputs": [],
      "source": []
    }
  ],
  "metadata": {
    "accelerator": "GPU",
    "colab": {
      "gpuType": "T4",
      "provenance": []
    },
    "kernelspec": {
      "display_name": "pth",
      "language": "python",
      "name": "python3"
    },
    "language_info": {
      "codemirror_mode": {
        "name": "ipython",
        "version": 3
      },
      "file_extension": ".py",
      "mimetype": "text/x-python",
      "name": "python",
      "nbconvert_exporter": "python",
      "pygments_lexer": "ipython3",
      "version": "3.10.14"
    }
  },
  "nbformat": 4,
  "nbformat_minor": 0
}
