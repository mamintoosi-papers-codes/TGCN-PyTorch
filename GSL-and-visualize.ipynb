{
 "cells": [
  {
   "cell_type": "markdown",
   "metadata": {
    "id": "665b7d54",
    "language": "markdown"
   },
   "source": [
    "# Adjacency Matrix Estimation using DAGMA\n",
    "\n",
    "This notebook is designed to run in a Python environment having the DAGMA package.\n",
    "\n",
    "It is recommended to create a dedicated Conda environment for this notebook using the following command:\n",
    "\n",
    "```bash\n",
    "conda create --name dagma python=3.x dagma\n",
    "```"
   ]
  },
  {
   "cell_type": "code",
   "execution_count": null,
   "metadata": {
    "id": "171ce3d8",
    "language": "python"
   },
   "outputs": [],
   "source": [
    "# !pip install dagma"
   ]
  },
  {
   "cell_type": "code",
   "execution_count": 1,
   "metadata": {
    "id": "f7fa38bc",
    "language": "python"
   },
   "outputs": [
    {
     "name": "stderr",
     "output_type": "stream",
     "text": [
      "c:\\Users\\m.amintoosi\\.conda\\envs\\pth-gpu\\lib\\site-packages\\tqdm\\auto.py:21: TqdmWarning: IProgress not found. Please update jupyter and ipywidgets. See https://ipywidgets.readthedocs.io/en/stable/user_install.html\n",
      "  from .autonotebook import tqdm as notebook_tqdm\n"
     ]
    }
   ],
   "source": [
    "import numpy as np\n",
    "import matplotlib.pyplot as plt\n",
    "import time\n",
    "import networkx as nx\n",
    "from dagma import utils\n",
    "from dagma.linear import DagmaLinear\n",
    "from utils.data.functions import load_features, load_adjacency_matrix"
   ]
  },
  {
   "cell_type": "code",
   "execution_count": 2,
   "metadata": {
    "id": "0b340eae",
    "language": "python"
   },
   "outputs": [],
   "source": [
    "time_start = time.time()\n"
   ]
  },
  {
   "cell_type": "code",
   "execution_count": 4,
   "metadata": {
    "id": "8e64dcbd",
    "language": "python"
   },
   "outputs": [
    {
     "name": "stdout",
     "output_type": "stream",
     "text": [
      "Processing dataset: shenzhen\n",
      "Prediction length 1, shape (156, 156), non-zero elements 0\n",
      "Prediction length 2, shape (156, 156), non-zero elements 0\n",
      "Prediction length 3, shape (156, 156), non-zero elements 0\n",
      "Prediction length 4, shape (156, 156), non-zero elements 0\n",
      "Processing dataset: losloop\n",
      "Prediction length 1, shape (207, 207), non-zero elements 28\n",
      "Prediction length 2, shape (207, 207), non-zero elements 54\n",
      "Prediction length 3, shape (207, 207), non-zero elements 79\n",
      "Prediction length 4, shape (207, 207), non-zero elements 110\n"
     ]
    }
   ],
   "source": [
    "###### Settings ######\n",
    "DATA_PATHS = {\n",
    "    \"shenzhen\": {\"feat\": \"data/sz_speed.csv\", \"adj\": \"data/sz_adj.csv\"},\n",
    "    \"losloop\": {\"feat\": \"data/los_speed.csv\", \"adj\": \"data/los_adj.csv\"},\n",
    "}\n",
    "\n",
    "datasets = ['shenzhen', 'losloop']\n",
    "use_gsl = False\n",
    "# use_gsl = True\n",
    "pred_list = [1, 2, 3, 4]\n",
    "\n",
    "for dataset_name in datasets:\n",
    "    print(f\"Processing dataset: {dataset_name}\")\n",
    "\n",
    "    ###### Load data ######\n",
    "    data = load_features(DATA_PATHS[dataset_name][\"feat\"])\n",
    "    adj = load_adjacency_matrix(DATA_PATHS[dataset_name][\"adj\"])\n",
    "\n",
    "    time_len = data.shape[0]\n",
    "    num_nodes = data.shape[1]\n",
    "    data1 = np.mat(data, dtype=np.float32)\n",
    "\n",
    "    #### Normalization ####\n",
    "    max_value = np.max(data1)\n",
    "    data1 = data1 / max_value\n",
    "\n",
    "    W_true = adj.copy()\n",
    "\n",
    "    for pre_len in pred_list:\n",
    "        W_est_file_name = f\"data/W_est_{dataset_name}_pre_len{pre_len}.npy\"\n",
    "        if use_gsl:\n",
    "            #### Estimate adjacency matrix by GSL ####\n",
    "            W_est_all = np.zeros((num_nodes, num_nodes, pre_len))\n",
    "            for i in range(pre_len):\n",
    "                X = data[i::pre_len]\n",
    "                model = DagmaLinear(loss_type='l2')\n",
    "                w_est = model.fit(X, lambda1=0.02)\n",
    "                W_est_all[:, :, i] = w_est\n",
    "\n",
    "                acc = utils.count_accuracy(W_true, w_est > 0)\n",
    "                print(f\"Prediction length {pre_len}, shape {w_est.shape}, accuracy {acc}, non-zero elements {np.count_nonzero(w_est > 0)}\")\n",
    "            np.save(W_est_file_name, W_est_all)\n",
    "\n",
    "        else:\n",
    "            W_est_all = np.load(W_est_file_name)\n",
    "\n",
    "        #### Combine estimated adjacency matrices ####\n",
    "        adj_all = np.zeros(W_est_all.shape, dtype=int)\n",
    "        adj_all[W_est_all > 0] = 1\n",
    "        adj = np.any(adj_all, axis=2)\n",
    "        W_est = adj.astype(int)\n",
    "        print(f\"Prediction length {pre_len}, shape {W_est.shape}, non-zero elements {np.count_nonzero(W_est_all > 0)}\")\n",
    "            \n",
    "        # print(f\"adj.shape= {adj.shape}, type= {type(adj[0, 0])}\")\n",
    "        # print(f\"W_est.shape= {W_est_all.shape}, type= {type(W_est[0, 0])}\")\n",
    "\n",
    "        # ### Plot the estimated and true adjacency matrix ####   \n",
    "\n",
    "        # fig, axs = plt.subplots(1, 3, figsize=(15, 5))\n",
    "\n",
    "        # axs[0].imshow(W_true.astype(np.uint8), cmap='gray')\n",
    "        # axs[0].set_title('W_true')\n",
    "\n",
    "        # axs[1].imshow(W_est, cmap='gray')\n",
    "        # axs[1].set_title('adj: W_est')\n",
    "\n",
    "        # overlay_image = np.zeros((W_true.shape[0], W_true.shape[1], 3), dtype=np.uint8)\n",
    "        # overlay_image[..., 0] = W_true * 255  # Red channel\n",
    "        # overlay_image[..., 1] = W_est * 255   # Green channel\n",
    "\n",
    "        # axs[2].imshow(overlay_image)\n",
    "        # axs[2].set_title('Overlayed')"
   ]
  },
  {
   "cell_type": "raw",
   "id": "319d87d8",
   "metadata": {
    "vscode": {
     "languageId": "raw"
    }
   },
   "source": [
    "\n",
    "Processing dataset: shenzhen\n",
    "Prediction length 1, shape (156, 156), non-zero elements 48 (All data)\n",
    "Prediction length 2, shape (156, 156), non-zero elements 0\n",
    "Prediction length 3, shape (156, 156), non-zero elements 0\n",
    "Prediction length 4, shape (156, 156), non-zero elements 0\n",
    "Processing dataset: losloop\n",
    "Prediction length 1, shape (207, 207), non-zero elements 28\n",
    "Prediction length 2, shape (207, 207), non-zero elements 54\n",
    "Prediction length 3, shape (207, 207), non-zero elements 79\n",
    "Prediction length 4, shape (207, 207), non-zero elements 110"
   ]
  }
 ],
 "metadata": {
  "kernelspec": {
   "display_name": "pth-gpu",
   "language": "python",
   "name": "python3"
  },
  "language_info": {
   "codemirror_mode": {
    "name": "ipython",
    "version": 3
   },
   "file_extension": ".py",
   "mimetype": "text/x-python",
   "name": "python",
   "nbconvert_exporter": "python",
   "pygments_lexer": "ipython3",
   "version": "3.10.16"
  }
 },
 "nbformat": 4,
 "nbformat_minor": 5
}
